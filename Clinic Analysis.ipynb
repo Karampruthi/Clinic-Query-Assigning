{
 "cells": [
  {
   "cell_type": "code",
   "execution_count": 1,
   "metadata": {},
   "outputs": [],
   "source": [
    "import pandas as pd\n",
    "import numpy as np    #Customer segmentation   #Pattern recognition\n",
    "import matplotlib.pyplot as plt"
   ]
  },
  {
   "cell_type": "code",
   "execution_count": 2,
   "metadata": {},
   "outputs": [
    {
     "name": "stdout",
     "output_type": "stream",
     "text": [
      "/Users/karampruthi/Downloads\n"
     ]
    }
   ],
   "source": [
    "cd /Users/karampruthi/Downloads"
   ]
  },
  {
   "cell_type": "code",
   "execution_count": 3,
   "metadata": {},
   "outputs": [],
   "source": [
    "Nov = pd.read_excel('New Analysis Data.xlsx',sheet_name=0)\n",
    "Dec = pd.read_excel('New Analysis Data.xlsx',sheet_name=1)\n",
    "Jan = pd.read_excel('New Analysis Data.xlsx',sheet_name=2)\n",
    "\n",
    "data = [Nov,Dec,Jan]"
   ]
  },
  {
   "cell_type": "code",
   "execution_count": 4,
   "metadata": {},
   "outputs": [],
   "source": [
    "data_join = pd.concat(data)\n",
    "data_join['location'] = data_join['State'].astype(str) + ', '+ data_join['City'].astype(str)"
   ]
  },
  {
   "cell_type": "code",
   "execution_count": 5,
   "metadata": {},
   "outputs": [],
   "source": [
    "data_join['Date'] =pd.to_datetime(data_join.Date)\n",
    "data_join.sort_values(by=['Date'],inplace=True)"
   ]
  },
  {
   "cell_type": "code",
   "execution_count": 6,
   "metadata": {},
   "outputs": [],
   "source": [
    "data_join.index = pd.to_datetime(data_join.Date)"
   ]
  },
  {
   "cell_type": "code",
   "execution_count": 7,
   "metadata": {},
   "outputs": [
    {
     "data": {
      "text/html": [
       "<div>\n",
       "<style scoped>\n",
       "    .dataframe tbody tr th:only-of-type {\n",
       "        vertical-align: middle;\n",
       "    }\n",
       "\n",
       "    .dataframe tbody tr th {\n",
       "        vertical-align: top;\n",
       "    }\n",
       "\n",
       "    .dataframe thead th {\n",
       "        text-align: right;\n",
       "    }\n",
       "</style>\n",
       "<table border=\"1\" class=\"dataframe\">\n",
       "  <thead>\n",
       "    <tr style=\"text-align: right;\">\n",
       "      <th></th>\n",
       "      <th>Name</th>\n",
       "      <th>Manager</th>\n",
       "      <th>Source</th>\n",
       "      <th>Sub source</th>\n",
       "      <th>Stage</th>\n",
       "      <th>Last Status</th>\n",
       "      <th>Country</th>\n",
       "      <th>State</th>\n",
       "      <th>City</th>\n",
       "      <th>location</th>\n",
       "    </tr>\n",
       "    <tr>\n",
       "      <th>Date</th>\n",
       "      <th></th>\n",
       "      <th></th>\n",
       "      <th></th>\n",
       "      <th></th>\n",
       "      <th></th>\n",
       "      <th></th>\n",
       "      <th></th>\n",
       "      <th></th>\n",
       "      <th></th>\n",
       "      <th></th>\n",
       "    </tr>\n",
       "  </thead>\n",
       "  <tbody>\n",
       "    <tr>\n",
       "      <th>2020-11-01</th>\n",
       "      <td>Vedika Salkar 3</td>\n",
       "      <td>sm001</td>\n",
       "      <td>Diet Clinic</td>\n",
       "      <td>FBA</td>\n",
       "      <td>Followup</td>\n",
       "      <td>Followup</td>\n",
       "      <td>India</td>\n",
       "      <td>Goa</td>\n",
       "      <td>NaN</td>\n",
       "      <td>Goa, nan</td>\n",
       "    </tr>\n",
       "    <tr>\n",
       "      <th>2020-11-01</th>\n",
       "      <td>Paramita Deb 3</td>\n",
       "      <td>agent05</td>\n",
       "      <td>Diet Clinic</td>\n",
       "      <td>FBA</td>\n",
       "      <td>Followup</td>\n",
       "      <td>Let Us Know</td>\n",
       "      <td>India</td>\n",
       "      <td>West Bengal</td>\n",
       "      <td>Kalyani</td>\n",
       "      <td>West Bengal, Kalyani</td>\n",
       "    </tr>\n",
       "    <tr>\n",
       "      <th>2020-11-01</th>\n",
       "      <td>harleen kaur 1</td>\n",
       "      <td>agent2</td>\n",
       "      <td>Diet Clinic</td>\n",
       "      <td>OW AP</td>\n",
       "      <td>Lead</td>\n",
       "      <td>NaN</td>\n",
       "      <td>India</td>\n",
       "      <td>Chandigarh</td>\n",
       "      <td>Chandigarh</td>\n",
       "      <td>Chandigarh, Chandigarh</td>\n",
       "    </tr>\n",
       "    <tr>\n",
       "      <th>2020-11-01</th>\n",
       "      <td>Akash sabale 1</td>\n",
       "      <td>agent05</td>\n",
       "      <td>Diet Clinic</td>\n",
       "      <td>GO-LPF</td>\n",
       "      <td>Followup</td>\n",
       "      <td>Call Back Later</td>\n",
       "      <td>India</td>\n",
       "      <td>Maharashtra</td>\n",
       "      <td>Solapur</td>\n",
       "      <td>Maharashtra, Solapur</td>\n",
       "    </tr>\n",
       "    <tr>\n",
       "      <th>2020-11-01</th>\n",
       "      <td>Anugya Kapoor 1</td>\n",
       "      <td>agentdeeksha</td>\n",
       "      <td>Diet Clinic</td>\n",
       "      <td>GO-LPF</td>\n",
       "      <td>Followup</td>\n",
       "      <td>Wrong Number</td>\n",
       "      <td>India</td>\n",
       "      <td>Uttar Pradesh</td>\n",
       "      <td>Kanpur</td>\n",
       "      <td>Uttar Pradesh, Kanpur</td>\n",
       "    </tr>\n",
       "    <tr>\n",
       "      <th>...</th>\n",
       "      <td>...</td>\n",
       "      <td>...</td>\n",
       "      <td>...</td>\n",
       "      <td>...</td>\n",
       "      <td>...</td>\n",
       "      <td>...</td>\n",
       "      <td>...</td>\n",
       "      <td>...</td>\n",
       "      <td>...</td>\n",
       "      <td>...</td>\n",
       "    </tr>\n",
       "    <tr>\n",
       "      <th>2021-01-31</th>\n",
       "      <td>Pratik Mate 8</td>\n",
       "      <td>hyderabad</td>\n",
       "      <td>Diet Clinic</td>\n",
       "      <td>GO-LPF</td>\n",
       "      <td>Cancelled</td>\n",
       "      <td>Cancelled</td>\n",
       "      <td>India</td>\n",
       "      <td>Maharashtra</td>\n",
       "      <td>Desaiganj</td>\n",
       "      <td>Maharashtra, Desaiganj</td>\n",
       "    </tr>\n",
       "    <tr>\n",
       "      <th>2021-01-31</th>\n",
       "      <td>swaranjali kumbhar 8</td>\n",
       "      <td>agent12</td>\n",
       "      <td>Diet Clinic</td>\n",
       "      <td>GO-LPF</td>\n",
       "      <td>Lead</td>\n",
       "      <td>NaN</td>\n",
       "      <td>India</td>\n",
       "      <td>Maharashtra</td>\n",
       "      <td>Mumbai</td>\n",
       "      <td>Maharashtra, Mumbai</td>\n",
       "    </tr>\n",
       "    <tr>\n",
       "      <th>2021-01-31</th>\n",
       "      <td>unknown 1</td>\n",
       "      <td>agent2</td>\n",
       "      <td>Diet Clinic</td>\n",
       "      <td>DIC GOOGLE</td>\n",
       "      <td>Lead</td>\n",
       "      <td>NaN</td>\n",
       "      <td>India</td>\n",
       "      <td>NaN</td>\n",
       "      <td>NaN</td>\n",
       "      <td>nan, nan</td>\n",
       "    </tr>\n",
       "    <tr>\n",
       "      <th>2021-01-31</th>\n",
       "      <td>Nidhi Singh 8</td>\n",
       "      <td>hyderabad</td>\n",
       "      <td>Diet Clinic</td>\n",
       "      <td>GO-LPF</td>\n",
       "      <td>Followup</td>\n",
       "      <td>Disconnected</td>\n",
       "      <td>India</td>\n",
       "      <td>Bihar</td>\n",
       "      <td>Gaya</td>\n",
       "      <td>Bihar, Gaya</td>\n",
       "    </tr>\n",
       "    <tr>\n",
       "      <th>2021-01-31</th>\n",
       "      <td>Sivanagaraju 8</td>\n",
       "      <td>sm001</td>\n",
       "      <td>Diet Clinic</td>\n",
       "      <td>GO-LPF</td>\n",
       "      <td>Lead</td>\n",
       "      <td>NaN</td>\n",
       "      <td>India</td>\n",
       "      <td>Andhra Pradesh</td>\n",
       "      <td>Tenali</td>\n",
       "      <td>Andhra Pradesh, Tenali</td>\n",
       "    </tr>\n",
       "  </tbody>\n",
       "</table>\n",
       "<p>37586 rows × 10 columns</p>\n",
       "</div>"
      ],
      "text/plain": [
       "                            Name       Manager       Source  Sub source  \\\n",
       "Date                                                                      \n",
       "2020-11-01       Vedika Salkar 3         sm001  Diet Clinic         FBA   \n",
       "2020-11-01        Paramita Deb 3       agent05  Diet Clinic         FBA   \n",
       "2020-11-01        harleen kaur 1        agent2  Diet Clinic       OW AP   \n",
       "2020-11-01        Akash sabale 1       agent05  Diet Clinic      GO-LPF   \n",
       "2020-11-01       Anugya Kapoor 1  agentdeeksha  Diet Clinic      GO-LPF   \n",
       "...                          ...           ...          ...         ...   \n",
       "2021-01-31         Pratik Mate 8     hyderabad  Diet Clinic      GO-LPF   \n",
       "2021-01-31  swaranjali kumbhar 8       agent12  Diet Clinic      GO-LPF   \n",
       "2021-01-31             unknown 1        agent2  Diet Clinic  DIC GOOGLE   \n",
       "2021-01-31         Nidhi Singh 8     hyderabad  Diet Clinic      GO-LPF   \n",
       "2021-01-31        Sivanagaraju 8         sm001  Diet Clinic      GO-LPF   \n",
       "\n",
       "                Stage      Last Status Country           State        City  \\\n",
       "Date                                                                         \n",
       "2020-11-01   Followup         Followup   India             Goa         NaN   \n",
       "2020-11-01   Followup      Let Us Know   India     West Bengal     Kalyani   \n",
       "2020-11-01       Lead              NaN   India      Chandigarh  Chandigarh   \n",
       "2020-11-01   Followup  Call Back Later   India     Maharashtra     Solapur   \n",
       "2020-11-01   Followup     Wrong Number   India   Uttar Pradesh      Kanpur   \n",
       "...               ...              ...     ...             ...         ...   \n",
       "2021-01-31  Cancelled        Cancelled   India     Maharashtra   Desaiganj   \n",
       "2021-01-31       Lead              NaN   India     Maharashtra      Mumbai   \n",
       "2021-01-31       Lead              NaN   India             NaN         NaN   \n",
       "2021-01-31   Followup     Disconnected   India           Bihar        Gaya   \n",
       "2021-01-31       Lead              NaN   India  Andhra Pradesh      Tenali   \n",
       "\n",
       "                          location  \n",
       "Date                                \n",
       "2020-11-01                Goa, nan  \n",
       "2020-11-01    West Bengal, Kalyani  \n",
       "2020-11-01  Chandigarh, Chandigarh  \n",
       "2020-11-01    Maharashtra, Solapur  \n",
       "2020-11-01   Uttar Pradesh, Kanpur  \n",
       "...                            ...  \n",
       "2021-01-31  Maharashtra, Desaiganj  \n",
       "2021-01-31     Maharashtra, Mumbai  \n",
       "2021-01-31                nan, nan  \n",
       "2021-01-31             Bihar, Gaya  \n",
       "2021-01-31  Andhra Pradesh, Tenali  \n",
       "\n",
       "[37586 rows x 10 columns]"
      ]
     },
     "execution_count": 7,
     "metadata": {},
     "output_type": "execute_result"
    }
   ],
   "source": [
    "data_join.drop(['Date'],axis=1)"
   ]
  },
  {
   "cell_type": "code",
   "execution_count": 8,
   "metadata": {},
   "outputs": [
    {
     "data": {
      "text/plain": [
       "Name              0\n",
       "Manager           0\n",
       "Date              0\n",
       "Source           85\n",
       "Sub source       14\n",
       "Stage             0\n",
       "Last Status    9596\n",
       "Country          44\n",
       "State          3968\n",
       "City           9056\n",
       "location          0\n",
       "dtype: int64"
      ]
     },
     "execution_count": 8,
     "metadata": {},
     "output_type": "execute_result"
    }
   ],
   "source": [
    "data_join.isnull().sum()"
   ]
  },
  {
   "cell_type": "code",
   "execution_count": 9,
   "metadata": {},
   "outputs": [],
   "source": [
    "data_join.dropna(subset=['Sub source','State'],inplace=True)"
   ]
  },
  {
   "cell_type": "code",
   "execution_count": 10,
   "metadata": {},
   "outputs": [
    {
     "name": "stdout",
     "output_type": "stream",
     "text": [
      "Manager -->>> ['sm001' 'agent05' 'agent2' 'agentdeeksha' 'jyoti' 'agent08' 'agent meena'\n",
      " 'Ritika' 'Poonam' 'Neha' 'agent06' 'Bhumika' 'agent001' 'agent09'\n",
      " 'agent10' 'agent03' 'Kanchan' 'harkirat' 'agent12' 'Anamika' 'Aman'\n",
      " 'Bindu' 'Parminder' 'agent11' 'agent07' 'Online manager' 'agent04'\n",
      " 'manminder' 'bengaluru' 'Goa Clinic' 'hyderabad' 'ahmedabad'\n",
      " 'Pune Clinic' 'lucknow' 'gurgaon' 'delhi' 'Vashi Clinic'] \n",
      "\n",
      "Source -->>> ['Diet Clinic' 'Others' 'DSA' nan 'Staytox' 'Healthviser' 'Heal Ayurveda'\n",
      " 'Trim n Tight'] \n",
      "\n",
      "Sub source -->>> ['FBA' 'OW AP' 'GO-LPF' 'DIC GOOGLE' 'DIC FACEBOOK' 'OGN' 'OWF' 'FBI'\n",
      " 'FBC' 'IG' 'WWC' 'FB-LPF' 'OTH' 'fb-lpf' 'YT' 'OW AP.' 'FB LBF' 'FB AP.'\n",
      " 'LPC' 'REF'] \n",
      "\n",
      "Stage -->>> ['Followup' 'Lead' 'Cancelled' 'Appointment' 'Confirmed'] \n",
      "\n",
      "Last Status -->>> ['Followup' 'Let Us Know' nan 'Call Back Later' 'Wrong Number' 'CNP'\n",
      " 'Disconnected' 'Cancelled' 'Not Reachable' 'Hot Queries' 'Will Confirm'] \n",
      "\n",
      "location -->>> ['Goa, nan' 'West Bengal, Kalyani' 'Chandigarh, Chandigarh' ...\n",
      " 'Maharashtra, Patan' 'Andhra Pradesh, Peddapuram'\n",
      " 'Maharashtra, Desaiganj'] \n",
      "\n",
      "Country -->>> ['India' 'United Kingdom' 'United Arab Emirates' 'Australia' 'New Zealand'\n",
      " 'Oman' 'Qatar' 'United States' 'Ukraine' 'Canada' 'Malaysia' nan 'Kuwait'\n",
      " 'France' 'Philippines' 'Thailand' 'Pakistan' 'Armenia' 'Saudi Arabia'\n",
      " 'Bangladesh' 'Russia' 'South Africa'] \n",
      "\n",
      "City -->>> [nan 'Kalyani' 'Chandigarh' ... 'Chima' 'Peddapuram' 'Desaiganj'] \n",
      "\n",
      "State -->>> ['Goa' 'West Bengal' 'Chandigarh' 'Maharashtra' 'Uttar Pradesh'\n",
      " 'Telangana' 'Odisha' 'Haryana' 'Rajasthan' 'Punjab' 'Delhi' 'Karnataka'\n",
      " 'Uttarakhand' 'Jammu and Kashmir' 'Assam' 'Gujarat' 'London'\n",
      " 'Andhra Pradesh' 'Dubai' 'Chhattisgarh' 'Tamil Nadu' 'Madhya Pradesh'\n",
      " 'Jharkhand' 'Bihar' 'Kerala' 'Himachal Pradesh' 'Melbourne' 'Auckland'\n",
      " 'Perth' 'Masqat' 'Doha' 'Meghalaya' 'California' 'Kharkiv'\n",
      " 'Dadra and Nagar Haveli' 'Ontario' 'Georgia' 'England' 'Daman and Diu'\n",
      " 'Sharjah' 'New York' 'Alberta' 'Queensland' 'Massachusetts' 'Manipur'\n",
      " 'Indiana' 'Ajman' 'Tripura' 'Kuala Lumpur' 'New South Wales'\n",
      " 'Western Australia' 'South Australia' 'Ras al-Khaymah' 'Sikkim'\n",
      " 'British Columbia' 13 'al-Kuwayt' 'Manitoba' 'Christchurch' 'Quebec'\n",
      " 'Andaman and Nicobar Islands' 38 29 'Ohio' 41 'Arunachal Pradesh' 'Paris'\n",
      " 'Luzon' 'Pondicherry' 'Northern Territory' 'Bangkok' 'Chatswood'\n",
      " 'Lakshadweep' 15 'Yerevan' 'Nagaland' 'Al Khobar' 'Utah' 17 4 'Texas'\n",
      " 'al-Wakrah' 'New Jersey' 'al-Farwaniyah' 'Hawalli' 'North-West Frontier'\n",
      " 'Surrey' 'al-Batinah' 'Mizoram' 'Kalimantan Tengah' 'Dhaka' 'New Jersy'\n",
      " 36 'Moscow' 'Leicestershire' 'Wales' 'Birmingham' 'al-Fujayrah' 'Kent'\n",
      " 'Chittagong Division' 'Limpopo'] \n",
      "\n"
     ]
    }
   ],
   "source": [
    "cols = ['Manager', 'Source', 'Sub source', 'Stage',\n",
    "       'Last Status','location','Country','City','State']\n",
    "for i in cols:\n",
    "    print(i,'-->>>',data_join[i].unique(),'\\n')"
   ]
  },
  {
   "cell_type": "code",
   "execution_count": 11,
   "metadata": {},
   "outputs": [
    {
     "data": {
      "text/plain": [
       "Followup       16253\n",
       "Lead           14299\n",
       "Cancelled       2547\n",
       "Appointment      504\n",
       "Confirmed          3\n",
       "Name: Stage, dtype: int64"
      ]
     },
     "execution_count": 11,
     "metadata": {},
     "output_type": "execute_result"
    }
   ],
   "source": [
    "data_join.Stage.value_counts()"
   ]
  },
  {
   "cell_type": "code",
   "execution_count": 12,
   "metadata": {},
   "outputs": [
    {
     "data": {
      "text/plain": [
       "India                   98.779980\n",
       "United Arab Emirates     0.383860\n",
       "Qatar                    0.196394\n",
       "Australia                0.175564\n",
       "Canada                   0.092245\n",
       "United Kingdom           0.086294\n",
       "Oman                     0.077367\n",
       "United States            0.065465\n",
       "New Zealand              0.038684\n",
       "Pakistan                 0.011903\n",
       "Kuwait                   0.011903\n",
       "Bangladesh               0.005951\n",
       "Thailand                 0.005951\n",
       "France                   0.005951\n",
       "Philippines              0.002976\n",
       "Malaysia                 0.002976\n",
       "Armenia                  0.002976\n",
       "Russia                   0.002976\n",
       "South Africa             0.002976\n",
       "Saudi Arabia             0.002976\n",
       "Ukraine                  0.002976\n",
       "Name: Country, dtype: float64"
      ]
     },
     "execution_count": 12,
     "metadata": {},
     "output_type": "execute_result"
    }
   ],
   "source": [
    "# Percentage of Queries by country\n",
    "data_join.Country.value_counts()/len(data_join)*100"
   ]
  },
  {
   "cell_type": "code",
   "execution_count": 13,
   "metadata": {},
   "outputs": [
    {
     "data": {
      "text/plain": [
       "Punjab           16.443492\n",
       "Maharashtra      11.640778\n",
       "Uttar Pradesh    10.974231\n",
       "Haryana           8.465750\n",
       "Delhi             6.540499\n",
       "                   ...    \n",
       "al-Fujayrah       0.002976\n",
       "New Jersey        0.002976\n",
       "Moscow            0.002976\n",
       "Ohio              0.002976\n",
       "4                 0.002976\n",
       "Name: State, Length: 101, dtype: float64"
      ]
     },
     "execution_count": 13,
     "metadata": {},
     "output_type": "execute_result"
    }
   ],
   "source": [
    "# Percentage of Queries by State\n",
    "data_join.State.value_counts()/len(data_join)*100"
   ]
  },
  {
   "cell_type": "code",
   "execution_count": 14,
   "metadata": {},
   "outputs": [
    {
     "data": {
      "text/plain": [
       "Maharashtra, Mumbai               4.210558\n",
       "Delhi, nan                        3.056002\n",
       "Delhi, Delhi                      2.794144\n",
       "Punjab, Ludhiana                  2.794144\n",
       "Karnataka, Bengaluru              2.615604\n",
       "                                    ...   \n",
       "Tamil Nadu, Thirunageswaram       0.002976\n",
       "West Bengal, Tufanganj            0.002976\n",
       "Goa, Quepem                       0.002976\n",
       "Tamil Nadu, Gopichettipalaiyam    0.002976\n",
       "Jharkhand, Dhanwar                0.002976\n",
       "Name: location, Length: 1828, dtype: float64"
      ]
     },
     "execution_count": 14,
     "metadata": {},
     "output_type": "execute_result"
    }
   ],
   "source": [
    "# Percentage of Queries by State, City\n",
    "data_join.location.value_counts()/len(data_join)*100"
   ]
  },
  {
   "cell_type": "code",
   "execution_count": 15,
   "metadata": {},
   "outputs": [
    {
     "data": {
      "text/plain": [
       "CNP                5523\n",
       "Call Back Later    4210\n",
       "Followup           4008\n",
       "Let Us Know        3558\n",
       "Cancelled          2533\n",
       "Not Reachable      2146\n",
       "Disconnected       1283\n",
       "Hot Queries         699\n",
       "Wrong Number        512\n",
       "Will Confirm        459\n",
       "Name: Last Status, dtype: int64"
      ]
     },
     "execution_count": 15,
     "metadata": {},
     "output_type": "execute_result"
    }
   ],
   "source": [
    "data_join['Last Status'].value_counts()"
   ]
  },
  {
   "cell_type": "code",
   "execution_count": 16,
   "metadata": {},
   "outputs": [
    {
     "data": {
      "text/plain": [
       "Aman              24.390244\n",
       "Anamika            1.518438\n",
       "Bhumika            2.364395\n",
       "Bindu              0.568720\n",
       "Goa Clinic              NaN\n",
       "Kanchan            1.369863\n",
       "Neha               0.499287\n",
       "Online manager     4.068858\n",
       "Parminder          0.467290\n",
       "Poonam             2.832861\n",
       "Pune Clinic        8.018868\n",
       "Ritika             1.302083\n",
       "Vashi Clinic            NaN\n",
       "agent meena        3.074518\n",
       "agent001           2.774019\n",
       "agent03            5.338470\n",
       "agent04            3.690037\n",
       "agent05                 NaN\n",
       "agent06            2.390852\n",
       "agent07            1.546961\n",
       "agent08            0.998336\n",
       "agent09            8.713318\n",
       "agent10            0.265018\n",
       "agent11            3.367003\n",
       "agent12            1.003344\n",
       "agent2                  NaN\n",
       "agentdeeksha       0.266261\n",
       "ahmedabad          1.980198\n",
       "bengaluru          2.952756\n",
       "delhi             16.666667\n",
       "gurgaon                 NaN\n",
       "harkirat                NaN\n",
       "hyderabad          4.395604\n",
       "jyoti              0.483092\n",
       "lucknow                 NaN\n",
       "manminder               NaN\n",
       "sm001              0.286299\n",
       "Name: Manager, dtype: float64"
      ]
     },
     "execution_count": 16,
     "metadata": {},
     "output_type": "execute_result"
    }
   ],
   "source": [
    "(data_join['Manager'][data_join['Last Status']=='Hot Queries'].value_counts()/data_join.Manager.value_counts())*100"
   ]
  },
  {
   "cell_type": "code",
   "execution_count": 17,
   "metadata": {},
   "outputs": [],
   "source": [
    "import seaborn as sns\n",
    "import matplotlib.pyplot as plt\n",
    "manager_followup = data_join['Manager'][data_join['Last Status']=='Followup'].value_counts()"
   ]
  },
  {
   "cell_type": "code",
   "execution_count": 18,
   "metadata": {},
   "outputs": [
    {
     "data": {
      "text/plain": [
       "<matplotlib.axes._subplots.AxesSubplot at 0x7fc2e522bb80>"
      ]
     },
     "execution_count": 18,
     "metadata": {},
     "output_type": "execute_result"
    },
    {
     "data": {
      "image/png": "[encoded data removed]",
      "text/plain": [
       "<Figure size 1440x720 with 1 Axes>"
      ]
     },
     "metadata": {
      "needs_background": "light"
     },
     "output_type": "display_data"
    }
   ],
   "source": [
    "manager_followup = pd.DataFrame(manager_followup,columns=['Manager'])\n",
    "plt.figure(figsize=(20,10))\n",
    "sns.swarmplot(manager_followup.Manager,manager_followup.index)"
   ]
  },
  {
   "cell_type": "code",
   "execution_count": 19,
   "metadata": {},
   "outputs": [
    {
     "data": {
      "text/html": [
       "<div>\n",
       "<style scoped>\n",
       "    .dataframe tbody tr th:only-of-type {\n",
       "        vertical-align: middle;\n",
       "    }\n",
       "\n",
       "    .dataframe tbody tr th {\n",
       "        vertical-align: top;\n",
       "    }\n",
       "\n",
       "    .dataframe thead th {\n",
       "        text-align: right;\n",
       "    }\n",
       "</style>\n",
       "<table border=\"1\" class=\"dataframe\">\n",
       "  <thead>\n",
       "    <tr style=\"text-align: right;\">\n",
       "      <th></th>\n",
       "      <th>Sub source</th>\n",
       "    </tr>\n",
       "  </thead>\n",
       "  <tbody>\n",
       "    <tr>\n",
       "      <th>FB-LPF</th>\n",
       "      <td>56.022734</td>\n",
       "    </tr>\n",
       "    <tr>\n",
       "      <th>FBA</th>\n",
       "      <td>15.497233</td>\n",
       "    </tr>\n",
       "    <tr>\n",
       "      <th>GO-LPF</th>\n",
       "      <td>14.967565</td>\n",
       "    </tr>\n",
       "    <tr>\n",
       "      <th>OGN</th>\n",
       "      <td>2.779266</td>\n",
       "    </tr>\n",
       "    <tr>\n",
       "      <th>DIC GOOGLE</th>\n",
       "      <td>2.148426</td>\n",
       "    </tr>\n",
       "    <tr>\n",
       "      <th>FBC</th>\n",
       "      <td>1.844909</td>\n",
       "    </tr>\n",
       "    <tr>\n",
       "      <th>LPC</th>\n",
       "      <td>1.690174</td>\n",
       "    </tr>\n",
       "    <tr>\n",
       "      <th>IG</th>\n",
       "      <td>1.395584</td>\n",
       "    </tr>\n",
       "    <tr>\n",
       "      <th>OWF</th>\n",
       "      <td>1.350949</td>\n",
       "    </tr>\n",
       "    <tr>\n",
       "      <th>OW AP.</th>\n",
       "      <td>0.580254</td>\n",
       "    </tr>\n",
       "    <tr>\n",
       "      <th>FBI</th>\n",
       "      <td>0.577278</td>\n",
       "    </tr>\n",
       "    <tr>\n",
       "      <th>DIC FACEBOOK</th>\n",
       "      <td>0.508838</td>\n",
       "    </tr>\n",
       "    <tr>\n",
       "      <th>WWC</th>\n",
       "      <td>0.360055</td>\n",
       "    </tr>\n",
       "    <tr>\n",
       "      <th>OW AP</th>\n",
       "      <td>0.172588</td>\n",
       "    </tr>\n",
       "    <tr>\n",
       "      <th>YT</th>\n",
       "      <td>0.050586</td>\n",
       "    </tr>\n",
       "    <tr>\n",
       "      <th>fb-lpf</th>\n",
       "      <td>0.017854</td>\n",
       "    </tr>\n",
       "    <tr>\n",
       "      <th>FB AP.</th>\n",
       "      <td>0.014878</td>\n",
       "    </tr>\n",
       "    <tr>\n",
       "      <th>OTH</th>\n",
       "      <td>0.014878</td>\n",
       "    </tr>\n",
       "    <tr>\n",
       "      <th>FB LBF</th>\n",
       "      <td>0.002976</td>\n",
       "    </tr>\n",
       "    <tr>\n",
       "      <th>REF</th>\n",
       "      <td>0.002976</td>\n",
       "    </tr>\n",
       "  </tbody>\n",
       "</table>\n",
       "</div>"
      ],
      "text/plain": [
       "              Sub source\n",
       "FB-LPF         56.022734\n",
       "FBA            15.497233\n",
       "GO-LPF         14.967565\n",
       "OGN             2.779266\n",
       "DIC GOOGLE      2.148426\n",
       "FBC             1.844909\n",
       "LPC             1.690174\n",
       "IG              1.395584\n",
       "OWF             1.350949\n",
       "OW AP.          0.580254\n",
       "FBI             0.577278\n",
       "DIC FACEBOOK    0.508838\n",
       "WWC             0.360055\n",
       "OW AP           0.172588\n",
       "YT              0.050586\n",
       "fb-lpf          0.017854\n",
       "FB AP.          0.014878\n",
       "OTH             0.014878\n",
       "FB LBF          0.002976\n",
       "REF             0.002976"
      ]
     },
     "execution_count": 19,
     "metadata": {},
     "output_type": "execute_result"
    }
   ],
   "source": [
    "# Percentage of queries from different sources\n",
    "per_sub_sources = pd.DataFrame(data_join['Sub source'].value_counts()/data_join.shape[0]*100)\n",
    "per_sub_sources"
   ]
  },
  {
   "cell_type": "code",
   "execution_count": 20,
   "metadata": {},
   "outputs": [
    {
     "data": {
      "text/plain": [
       "Diet Clinic    624\n",
       "Staytox         57\n",
       "Others          13\n",
       "DSA              1\n",
       "Healthviser      1\n",
       "Name: Source, dtype: int64"
      ]
     },
     "execution_count": 20,
     "metadata": {},
     "output_type": "execute_result"
    }
   ],
   "source": [
    "data_join[data_join['Last Status']=='Hot Queries'].Source.value_counts()"
   ]
  },
  {
   "cell_type": "code",
   "execution_count": 21,
   "metadata": {},
   "outputs": [
    {
     "data": {
      "text/plain": [
       "agentdeeksha      2629\n",
       "sm001             2445\n",
       "agent09           2215\n",
       "agent meena       1919\n",
       "jyoti             1863\n",
       "agent03           1817\n",
       "agent2            1683\n",
       "agent05           1555\n",
       "agent001          1478\n",
       "Neha              1402\n",
       "agent08           1202\n",
       "agent12           1196\n",
       "Ritika            1152\n",
       "agent10           1132\n",
       "Bindu             1055\n",
       "agent06            962\n",
       "agent07            905\n",
       "agent11            891\n",
       "hyderabad          728\n",
       "Bhumika            719\n",
       "ahmedabad          707\n",
       "Online manager     639\n",
       "bengaluru          508\n",
       "Anamika            461\n",
       "Parminder          428\n",
       "harkirat           398\n",
       "Poonam             353\n",
       "agent04            271\n",
       "Kanchan            219\n",
       "Pune Clinic        212\n",
       "lucknow            193\n",
       "Goa Clinic         156\n",
       "manminder           56\n",
       "Aman                41\n",
       "gurgaon              8\n",
       "delhi                6\n",
       "Vashi Clinic         2\n",
       "Name: Manager, dtype: int64"
      ]
     },
     "execution_count": 21,
     "metadata": {},
     "output_type": "execute_result"
    }
   ],
   "source": [
    "data_join.Manager.value_counts()"
   ]
  },
  {
   "cell_type": "code",
   "execution_count": 22,
   "metadata": {},
   "outputs": [
    {
     "data": {
      "text/html": [
       "<div>\n",
       "<style scoped>\n",
       "    .dataframe tbody tr th:only-of-type {\n",
       "        vertical-align: middle;\n",
       "    }\n",
       "\n",
       "    .dataframe tbody tr th {\n",
       "        vertical-align: top;\n",
       "    }\n",
       "\n",
       "    .dataframe thead th {\n",
       "        text-align: right;\n",
       "    }\n",
       "</style>\n",
       "<table border=\"1\" class=\"dataframe\">\n",
       "  <thead>\n",
       "    <tr style=\"text-align: right;\">\n",
       "      <th></th>\n",
       "      <th>Name</th>\n",
       "      <th>Manager</th>\n",
       "      <th>Date</th>\n",
       "      <th>Source</th>\n",
       "      <th>Sub source</th>\n",
       "      <th>Stage</th>\n",
       "      <th>Last Status</th>\n",
       "      <th>Country</th>\n",
       "      <th>State</th>\n",
       "      <th>City</th>\n",
       "      <th>location</th>\n",
       "    </tr>\n",
       "    <tr>\n",
       "      <th>Date</th>\n",
       "      <th></th>\n",
       "      <th></th>\n",
       "      <th></th>\n",
       "      <th></th>\n",
       "      <th></th>\n",
       "      <th></th>\n",
       "      <th></th>\n",
       "      <th></th>\n",
       "      <th></th>\n",
       "      <th></th>\n",
       "      <th></th>\n",
       "    </tr>\n",
       "  </thead>\n",
       "  <tbody>\n",
       "    <tr>\n",
       "      <th>2020-11-09</th>\n",
       "      <td>sudha 1</td>\n",
       "      <td>agent meena</td>\n",
       "      <td>2020-11-09</td>\n",
       "      <td>Diet Clinic</td>\n",
       "      <td>DIC GOOGLE</td>\n",
       "      <td>Confirmed</td>\n",
       "      <td>NaN</td>\n",
       "      <td>India</td>\n",
       "      <td>Punjab</td>\n",
       "      <td>Jalandhar</td>\n",
       "      <td>Punjab, Jalandhar</td>\n",
       "    </tr>\n",
       "    <tr>\n",
       "      <th>2021-01-09</th>\n",
       "      <td>rajinder 5</td>\n",
       "      <td>jyoti</td>\n",
       "      <td>2021-01-09</td>\n",
       "      <td>Diet Clinic</td>\n",
       "      <td>FBA</td>\n",
       "      <td>Confirmed</td>\n",
       "      <td>Not Reachable</td>\n",
       "      <td>India</td>\n",
       "      <td>Punjab</td>\n",
       "      <td>NaN</td>\n",
       "      <td>Punjab, nan</td>\n",
       "    </tr>\n",
       "    <tr>\n",
       "      <th>2021-01-15</th>\n",
       "      <td>sonika 1</td>\n",
       "      <td>jyoti</td>\n",
       "      <td>2021-01-15</td>\n",
       "      <td>Diet Clinic</td>\n",
       "      <td>DIC GOOGLE</td>\n",
       "      <td>Confirmed</td>\n",
       "      <td>Hot Queries</td>\n",
       "      <td>India</td>\n",
       "      <td>Punjab</td>\n",
       "      <td>Jalandhar</td>\n",
       "      <td>Punjab, Jalandhar</td>\n",
       "    </tr>\n",
       "  </tbody>\n",
       "</table>\n",
       "</div>"
      ],
      "text/plain": [
       "                  Name      Manager       Date       Source  Sub source  \\\n",
       "Date                                                                      \n",
       "2020-11-09     sudha 1  agent meena 2020-11-09  Diet Clinic  DIC GOOGLE   \n",
       "2021-01-09  rajinder 5        jyoti 2021-01-09  Diet Clinic         FBA   \n",
       "2021-01-15    sonika 1        jyoti 2021-01-15  Diet Clinic  DIC GOOGLE   \n",
       "\n",
       "                Stage    Last Status Country   State       City  \\\n",
       "Date                                                              \n",
       "2020-11-09  Confirmed            NaN   India  Punjab  Jalandhar   \n",
       "2021-01-09  Confirmed  Not Reachable   India  Punjab        NaN   \n",
       "2021-01-15  Confirmed    Hot Queries   India  Punjab  Jalandhar   \n",
       "\n",
       "                     location  \n",
       "Date                           \n",
       "2020-11-09  Punjab, Jalandhar  \n",
       "2021-01-09        Punjab, nan  \n",
       "2021-01-15  Punjab, Jalandhar  "
      ]
     },
     "execution_count": 22,
     "metadata": {},
     "output_type": "execute_result"
    }
   ],
   "source": [
    "data_join[data_join['Stage']=='Confirmed']"
   ]
  },
  {
   "cell_type": "code",
   "execution_count": 23,
   "metadata": {},
   "outputs": [],
   "source": [
    "new_data = data_join.drop(['Name','Date'],axis=1)"
   ]
  },
  {
   "cell_type": "code",
   "execution_count": 24,
   "metadata": {},
   "outputs": [],
   "source": [
    "agent = ['agentdeeksha','sm001','agent09' ,'agent meena' ,'jyoti','agent03','agent2','agent05','agent001',\n",
    "         'Neha']             \n",
    "#'Ritika']\n",
    "\n",
    "lst = ['Punjab','Maharashtra','Uttar Pradesh','Haryana','Delhi','West Bengal','Karnataka','Jammu and Kashmir',\n",
    "       'Gujarat','Telangana']\n",
    "\n",
    "array = ['FB-LPF', 'FBA','GO-LPF','DIC GOOGLE','OGN']"
   ]
  },
  {
   "cell_type": "code",
   "execution_count": 25,
   "metadata": {},
   "outputs": [
    {
     "data": {
      "text/plain": [
       "Followup       15279\n",
       "Lead           13394\n",
       "Cancelled       2426\n",
       "Appointment      496\n",
       "Confirmed          3\n",
       "Name: Stage, dtype: int64"
      ]
     },
     "execution_count": 25,
     "metadata": {},
     "output_type": "execute_result"
    }
   ],
   "source": [
    "India_data = new_data[new_data['Country']=='India']\n",
    "India_data = India_data[India_data['Source']=='Diet Clinic']\n",
    "\n",
    "\n",
    "# India_data = India_data[India_data['Sub source'].isin(array)]\n",
    "\n",
    "# India_data = India_data[India_data['State'].isin(lst)]\n",
    "# India_data = India_data[India_data['Manager'].isin(agent)]\n",
    "# print(India_data)\n",
    "\n",
    "filter_data = India_data.drop(['location','City','Country','Source','Last Status'],axis=1)\n",
    "filter_data.reset_index(drop=True, inplace=True)\n",
    "filter_data.Stage.value_counts()"
   ]
  },
  {
   "cell_type": "code",
   "execution_count": 26,
   "metadata": {},
   "outputs": [],
   "source": [
    "# testing.Manager.value_counts() #/len(testing)*100"
   ]
  },
  {
   "cell_type": "code",
   "execution_count": 27,
   "metadata": {},
   "outputs": [],
   "source": [
    "# testing[(testing.Stage=='Cancelled')& (testing.State=='Mizoram')].Manager.value_counts()"
   ]
  },
  {
   "cell_type": "code",
   "execution_count": 28,
   "metadata": {},
   "outputs": [],
   "source": [
    "# testing[(testing.Manager=='agentdeeksha') & (testing.Stage=='Lead')].State.value_counts()    #Followup Cancelled"
   ]
  },
  {
   "cell_type": "code",
   "execution_count": 29,
   "metadata": {},
   "outputs": [],
   "source": [
    "# testing[(testing.Manager=='agent09') & (testing.Stage=='Lead')].State.value_counts()    #Followup Cancelled"
   ]
  },
  {
   "cell_type": "code",
   "execution_count": 30,
   "metadata": {},
   "outputs": [],
   "source": [
    "# testing[(testing.Manager=='sm001') & (testing.Stage=='Cancelled')].State.value_counts()    #Followup Cancelled"
   ]
  },
  {
   "cell_type": "code",
   "execution_count": 31,
   "metadata": {},
   "outputs": [],
   "source": [
    "# testing[(testing.Manager=='sm001') & (testing.Stage=='Followup')].State.value_counts()    #Followup Cancelled"
   ]
  },
  {
   "cell_type": "code",
   "execution_count": 32,
   "metadata": {},
   "outputs": [],
   "source": [
    "# testing[(testing.Stage=='Followup')].State.value_counts()  /testing.State.value_counts()*100   #Followup Cancelled"
   ]
  },
  {
   "cell_type": "code",
   "execution_count": 33,
   "metadata": {},
   "outputs": [],
   "source": [
    "# testing[(testing.Stage=='Lead')].State.value_counts() /testing.State.value_counts()*100    #Followup Cancelled"
   ]
  },
  {
   "cell_type": "code",
   "execution_count": 34,
   "metadata": {},
   "outputs": [],
   "source": [
    "# testing.State.value_counts()"
   ]
  },
  {
   "cell_type": "code",
   "execution_count": 35,
   "metadata": {},
   "outputs": [],
   "source": [
    "# (testing[(testing.Stage=='Cancelled')].State.value_counts())/testing.State.value_counts()*100  #Followup Cancelled"
   ]
  },
  {
   "cell_type": "code",
   "execution_count": 36,
   "metadata": {},
   "outputs": [],
   "source": [
    "# filter_data.Stage.value_counts()"
   ]
  },
  {
   "cell_type": "code",
   "execution_count": 37,
   "metadata": {},
   "outputs": [],
   "source": [
    "testing = filter_data[(filter_data.Stage=='Followup')|(filter_data.Stage=='Lead')|(filter_data.Stage=='Cancelled')]\n",
    "dummies = pd.get_dummies(data=testing, columns=['Manager', 'State','Sub source'])\n",
    "x = dummies.drop('Stage',axis=1)\n",
    "y = dummies['Stage'].apply(lambda x:1 if x=='Followup' else 0 if x=='Cancelled' else 2 ) "
   ]
  },
  {
   "cell_type": "code",
   "execution_count": 38,
   "metadata": {},
   "outputs": [
    {
     "data": {
      "text/plain": [
       "1    15279\n",
       "2    13394\n",
       "0     2426\n",
       "Name: Stage, dtype: int64"
      ]
     },
     "execution_count": 38,
     "metadata": {},
     "output_type": "execute_result"
    }
   ],
   "source": [
    "y.value_counts()"
   ]
  },
  {
   "cell_type": "code",
   "execution_count": 39,
   "metadata": {},
   "outputs": [],
   "source": [
    "from imblearn.over_sampling import RandomOverSampler, SMOTE\n",
    "from imblearn.under_sampling import RandomUnderSampler\n",
    "\n",
    "smote = RandomOverSampler()\n",
    "x,y = smote.fit_sample(x,y)"
   ]
  },
  {
   "cell_type": "code",
   "execution_count": 40,
   "metadata": {},
   "outputs": [
    {
     "data": {
      "text/plain": [
       "2    15279\n",
       "1    15279\n",
       "0    15279\n",
       "Name: Stage, dtype: int64"
      ]
     },
     "execution_count": 40,
     "metadata": {},
     "output_type": "execute_result"
    }
   ],
   "source": [
    "y.value_counts()"
   ]
  },
  {
   "cell_type": "code",
   "execution_count": 41,
   "metadata": {},
   "outputs": [
    {
     "data": {
      "text/plain": [
       "0.609833930315858"
      ]
     },
     "execution_count": 41,
     "metadata": {},
     "output_type": "execute_result"
    }
   ],
   "source": [
    "from sklearn.model_selection import train_test_split\n",
    "from sklearn.linear_model import LogisticRegression\n",
    "from sklearn.svm import SVC\n",
    "from sklearn.naive_bayes import GaussianNB\n",
    "from sklearn.neural_network import MLPClassifier\n",
    "from sklearn.tree import DecisionTreeClassifier\n",
    "\n",
    "X_train, X_test, y_train, y_test = train_test_split(x, y, test_size=0.33, random_state=42)\n",
    "\n",
    "# LR = LogisticRegression(max_iter=300) #. 'newton-cg', 'sag', and 'lbfgs'\n",
    "LR = DecisionTreeClassifier()\n",
    "# LR = SVC()\n",
    "LR = MLPClassifier(max_iter=300,solver='adam') \n",
    "LR.fit(X_train,y_train)\n",
    "LR.score(X_train,y_train)"
   ]
  },
  {
   "cell_type": "code",
   "execution_count": 42,
   "metadata": {},
   "outputs": [
    {
     "data": {
      "text/plain": [
       "0.5764527004693594"
      ]
     },
     "execution_count": 42,
     "metadata": {},
     "output_type": "execute_result"
    }
   ],
   "source": [
    "LR.score(X_test,y_test)"
   ]
  },
  {
   "cell_type": "code",
   "execution_count": 43,
   "metadata": {},
   "outputs": [
    {
     "data": {
      "text/plain": [
       "<matplotlib.axes._subplots.AxesSubplot at 0x7fc2e7c5eb80>"
      ]
     },
     "execution_count": 43,
     "metadata": {},
     "output_type": "execute_result"
    },
    {
     "data": {
      "image/png": "[encoded data removed]",
      "text/plain": [
       "<Figure size 432x288 with 2 Axes>"
      ]
     },
     "metadata": {
      "needs_background": "light"
     },
     "output_type": "display_data"
    }
   ],
   "source": [
    "from sklearn.metrics import confusion_matrix\n",
    "import seaborn as sns\n",
    "\n",
    "test_pred = LR.predict(X_test)\n",
    "test_matrix = confusion_matrix(y_test, test_pred)\n",
    "sns.heatmap(test_matrix/np.sum(test_matrix), annot=True, \n",
    "            fmt='.2%', cmap='Blues')"
   ]
  },
  {
   "cell_type": "code",
   "execution_count": 44,
   "metadata": {},
   "outputs": [],
   "source": [
    "dummies_data = pd.get_dummies(data=filter_data, columns=['Manager', 'Stage', 'State','Sub source'])"
   ]
  },
  {
   "cell_type": "code",
   "execution_count": 45,
   "metadata": {},
   "outputs": [],
   "source": [
    "from sklearn.linear_model import LinearRegression\n"
   ]
  },
  {
   "cell_type": "code",
   "execution_count": 46,
   "metadata": {},
   "outputs": [
    {
     "data": {
      "text/html": [
       "<div>\n",
       "<style scoped>\n",
       "    .dataframe tbody tr th:only-of-type {\n",
       "        vertical-align: middle;\n",
       "    }\n",
       "\n",
       "    .dataframe tbody tr th {\n",
       "        vertical-align: top;\n",
       "    }\n",
       "\n",
       "    .dataframe thead th {\n",
       "        text-align: right;\n",
       "    }\n",
       "</style>\n",
       "<table border=\"1\" class=\"dataframe\">\n",
       "  <thead>\n",
       "    <tr style=\"text-align: right;\">\n",
       "      <th></th>\n",
       "      <th>Manager_Aman</th>\n",
       "      <th>Manager_Anamika</th>\n",
       "      <th>Manager_Bhumika</th>\n",
       "      <th>Manager_Bindu</th>\n",
       "      <th>Manager_Goa Clinic</th>\n",
       "      <th>Manager_Kanchan</th>\n",
       "      <th>Manager_Neha</th>\n",
       "      <th>Manager_Online manager</th>\n",
       "      <th>Manager_Parminder</th>\n",
       "      <th>Manager_Poonam</th>\n",
       "      <th>...</th>\n",
       "      <th>Sub source_LPC</th>\n",
       "      <th>Sub source_OGN</th>\n",
       "      <th>Sub source_OTH</th>\n",
       "      <th>Sub source_OW AP</th>\n",
       "      <th>Sub source_OW AP.</th>\n",
       "      <th>Sub source_OWF</th>\n",
       "      <th>Sub source_REF</th>\n",
       "      <th>Sub source_WWC</th>\n",
       "      <th>Sub source_YT</th>\n",
       "      <th>Sub source_fb-lpf</th>\n",
       "    </tr>\n",
       "  </thead>\n",
       "  <tbody>\n",
       "    <tr>\n",
       "      <th>0</th>\n",
       "      <td>0</td>\n",
       "      <td>0</td>\n",
       "      <td>0</td>\n",
       "      <td>0</td>\n",
       "      <td>0</td>\n",
       "      <td>0</td>\n",
       "      <td>0</td>\n",
       "      <td>0</td>\n",
       "      <td>0</td>\n",
       "      <td>0</td>\n",
       "      <td>...</td>\n",
       "      <td>0</td>\n",
       "      <td>0</td>\n",
       "      <td>0</td>\n",
       "      <td>0</td>\n",
       "      <td>0</td>\n",
       "      <td>0</td>\n",
       "      <td>0</td>\n",
       "      <td>0</td>\n",
       "      <td>0</td>\n",
       "      <td>0</td>\n",
       "    </tr>\n",
       "    <tr>\n",
       "      <th>1</th>\n",
       "      <td>0</td>\n",
       "      <td>0</td>\n",
       "      <td>0</td>\n",
       "      <td>0</td>\n",
       "      <td>0</td>\n",
       "      <td>0</td>\n",
       "      <td>0</td>\n",
       "      <td>0</td>\n",
       "      <td>0</td>\n",
       "      <td>0</td>\n",
       "      <td>...</td>\n",
       "      <td>0</td>\n",
       "      <td>0</td>\n",
       "      <td>0</td>\n",
       "      <td>0</td>\n",
       "      <td>0</td>\n",
       "      <td>0</td>\n",
       "      <td>0</td>\n",
       "      <td>0</td>\n",
       "      <td>0</td>\n",
       "      <td>0</td>\n",
       "    </tr>\n",
       "    <tr>\n",
       "      <th>2</th>\n",
       "      <td>0</td>\n",
       "      <td>0</td>\n",
       "      <td>0</td>\n",
       "      <td>0</td>\n",
       "      <td>0</td>\n",
       "      <td>0</td>\n",
       "      <td>0</td>\n",
       "      <td>0</td>\n",
       "      <td>0</td>\n",
       "      <td>0</td>\n",
       "      <td>...</td>\n",
       "      <td>0</td>\n",
       "      <td>0</td>\n",
       "      <td>0</td>\n",
       "      <td>1</td>\n",
       "      <td>0</td>\n",
       "      <td>0</td>\n",
       "      <td>0</td>\n",
       "      <td>0</td>\n",
       "      <td>0</td>\n",
       "      <td>0</td>\n",
       "    </tr>\n",
       "    <tr>\n",
       "      <th>3</th>\n",
       "      <td>0</td>\n",
       "      <td>0</td>\n",
       "      <td>0</td>\n",
       "      <td>0</td>\n",
       "      <td>0</td>\n",
       "      <td>0</td>\n",
       "      <td>0</td>\n",
       "      <td>0</td>\n",
       "      <td>0</td>\n",
       "      <td>0</td>\n",
       "      <td>...</td>\n",
       "      <td>0</td>\n",
       "      <td>0</td>\n",
       "      <td>0</td>\n",
       "      <td>0</td>\n",
       "      <td>0</td>\n",
       "      <td>0</td>\n",
       "      <td>0</td>\n",
       "      <td>0</td>\n",
       "      <td>0</td>\n",
       "      <td>0</td>\n",
       "    </tr>\n",
       "    <tr>\n",
       "      <th>4</th>\n",
       "      <td>0</td>\n",
       "      <td>0</td>\n",
       "      <td>0</td>\n",
       "      <td>0</td>\n",
       "      <td>0</td>\n",
       "      <td>0</td>\n",
       "      <td>0</td>\n",
       "      <td>0</td>\n",
       "      <td>0</td>\n",
       "      <td>0</td>\n",
       "      <td>...</td>\n",
       "      <td>0</td>\n",
       "      <td>0</td>\n",
       "      <td>0</td>\n",
       "      <td>0</td>\n",
       "      <td>0</td>\n",
       "      <td>0</td>\n",
       "      <td>0</td>\n",
       "      <td>0</td>\n",
       "      <td>0</td>\n",
       "      <td>0</td>\n",
       "    </tr>\n",
       "    <tr>\n",
       "      <th>...</th>\n",
       "      <td>...</td>\n",
       "      <td>...</td>\n",
       "      <td>...</td>\n",
       "      <td>...</td>\n",
       "      <td>...</td>\n",
       "      <td>...</td>\n",
       "      <td>...</td>\n",
       "      <td>...</td>\n",
       "      <td>...</td>\n",
       "      <td>...</td>\n",
       "      <td>...</td>\n",
       "      <td>...</td>\n",
       "      <td>...</td>\n",
       "      <td>...</td>\n",
       "      <td>...</td>\n",
       "      <td>...</td>\n",
       "      <td>...</td>\n",
       "      <td>...</td>\n",
       "      <td>...</td>\n",
       "      <td>...</td>\n",
       "      <td>...</td>\n",
       "    </tr>\n",
       "    <tr>\n",
       "      <th>31593</th>\n",
       "      <td>0</td>\n",
       "      <td>0</td>\n",
       "      <td>0</td>\n",
       "      <td>0</td>\n",
       "      <td>0</td>\n",
       "      <td>0</td>\n",
       "      <td>0</td>\n",
       "      <td>0</td>\n",
       "      <td>0</td>\n",
       "      <td>0</td>\n",
       "      <td>...</td>\n",
       "      <td>0</td>\n",
       "      <td>0</td>\n",
       "      <td>0</td>\n",
       "      <td>0</td>\n",
       "      <td>0</td>\n",
       "      <td>0</td>\n",
       "      <td>0</td>\n",
       "      <td>0</td>\n",
       "      <td>0</td>\n",
       "      <td>0</td>\n",
       "    </tr>\n",
       "    <tr>\n",
       "      <th>31594</th>\n",
       "      <td>0</td>\n",
       "      <td>0</td>\n",
       "      <td>0</td>\n",
       "      <td>0</td>\n",
       "      <td>0</td>\n",
       "      <td>0</td>\n",
       "      <td>0</td>\n",
       "      <td>0</td>\n",
       "      <td>0</td>\n",
       "      <td>0</td>\n",
       "      <td>...</td>\n",
       "      <td>0</td>\n",
       "      <td>0</td>\n",
       "      <td>0</td>\n",
       "      <td>0</td>\n",
       "      <td>0</td>\n",
       "      <td>0</td>\n",
       "      <td>0</td>\n",
       "      <td>0</td>\n",
       "      <td>0</td>\n",
       "      <td>0</td>\n",
       "    </tr>\n",
       "    <tr>\n",
       "      <th>31595</th>\n",
       "      <td>0</td>\n",
       "      <td>0</td>\n",
       "      <td>0</td>\n",
       "      <td>0</td>\n",
       "      <td>0</td>\n",
       "      <td>0</td>\n",
       "      <td>0</td>\n",
       "      <td>0</td>\n",
       "      <td>0</td>\n",
       "      <td>0</td>\n",
       "      <td>...</td>\n",
       "      <td>0</td>\n",
       "      <td>0</td>\n",
       "      <td>0</td>\n",
       "      <td>0</td>\n",
       "      <td>0</td>\n",
       "      <td>0</td>\n",
       "      <td>0</td>\n",
       "      <td>0</td>\n",
       "      <td>0</td>\n",
       "      <td>0</td>\n",
       "    </tr>\n",
       "    <tr>\n",
       "      <th>31596</th>\n",
       "      <td>0</td>\n",
       "      <td>0</td>\n",
       "      <td>0</td>\n",
       "      <td>0</td>\n",
       "      <td>0</td>\n",
       "      <td>0</td>\n",
       "      <td>0</td>\n",
       "      <td>0</td>\n",
       "      <td>0</td>\n",
       "      <td>0</td>\n",
       "      <td>...</td>\n",
       "      <td>0</td>\n",
       "      <td>0</td>\n",
       "      <td>0</td>\n",
       "      <td>0</td>\n",
       "      <td>0</td>\n",
       "      <td>0</td>\n",
       "      <td>0</td>\n",
       "      <td>0</td>\n",
       "      <td>0</td>\n",
       "      <td>0</td>\n",
       "    </tr>\n",
       "    <tr>\n",
       "      <th>31597</th>\n",
       "      <td>0</td>\n",
       "      <td>0</td>\n",
       "      <td>0</td>\n",
       "      <td>0</td>\n",
       "      <td>0</td>\n",
       "      <td>0</td>\n",
       "      <td>0</td>\n",
       "      <td>0</td>\n",
       "      <td>0</td>\n",
       "      <td>0</td>\n",
       "      <td>...</td>\n",
       "      <td>0</td>\n",
       "      <td>0</td>\n",
       "      <td>0</td>\n",
       "      <td>0</td>\n",
       "      <td>0</td>\n",
       "      <td>0</td>\n",
       "      <td>0</td>\n",
       "      <td>0</td>\n",
       "      <td>0</td>\n",
       "      <td>0</td>\n",
       "    </tr>\n",
       "  </tbody>\n",
       "</table>\n",
       "<p>31598 rows × 100 columns</p>\n",
       "</div>"
      ],
      "text/plain": [
       "       Manager_Aman  Manager_Anamika  Manager_Bhumika  Manager_Bindu  \\\n",
       "0                 0                0                0              0   \n",
       "1                 0                0                0              0   \n",
       "2                 0                0                0              0   \n",
       "3                 0                0                0              0   \n",
       "4                 0                0                0              0   \n",
       "...             ...              ...              ...            ...   \n",
       "31593             0                0                0              0   \n",
       "31594             0                0                0              0   \n",
       "31595             0                0                0              0   \n",
       "31596             0                0                0              0   \n",
       "31597             0                0                0              0   \n",
       "\n",
       "       Manager_Goa Clinic  Manager_Kanchan  Manager_Neha  \\\n",
       "0                       0                0             0   \n",
       "1                       0                0             0   \n",
       "2                       0                0             0   \n",
       "3                       0                0             0   \n",
       "4                       0                0             0   \n",
       "...                   ...              ...           ...   \n",
       "31593                   0                0             0   \n",
       "31594                   0                0             0   \n",
       "31595                   0                0             0   \n",
       "31596                   0                0             0   \n",
       "31597                   0                0             0   \n",
       "\n",
       "       Manager_Online manager  Manager_Parminder  Manager_Poonam  ...  \\\n",
       "0                           0                  0               0  ...   \n",
       "1                           0                  0               0  ...   \n",
       "2                           0                  0               0  ...   \n",
       "3                           0                  0               0  ...   \n",
       "4                           0                  0               0  ...   \n",
       "...                       ...                ...             ...  ...   \n",
       "31593                       0                  0               0  ...   \n",
       "31594                       0                  0               0  ...   \n",
       "31595                       0                  0               0  ...   \n",
       "31596                       0                  0               0  ...   \n",
       "31597                       0                  0               0  ...   \n",
       "\n",
       "       Sub source_LPC  Sub source_OGN  Sub source_OTH  Sub source_OW AP  \\\n",
       "0                   0               0               0                 0   \n",
       "1                   0               0               0                 0   \n",
       "2                   0               0               0                 1   \n",
       "3                   0               0               0                 0   \n",
       "4                   0               0               0                 0   \n",
       "...               ...             ...             ...               ...   \n",
       "31593               0               0               0                 0   \n",
       "31594               0               0               0                 0   \n",
       "31595               0               0               0                 0   \n",
       "31596               0               0               0                 0   \n",
       "31597               0               0               0                 0   \n",
       "\n",
       "       Sub source_OW AP.  Sub source_OWF  Sub source_REF  Sub source_WWC  \\\n",
       "0                      0               0               0               0   \n",
       "1                      0               0               0               0   \n",
       "2                      0               0               0               0   \n",
       "3                      0               0               0               0   \n",
       "4                      0               0               0               0   \n",
       "...                  ...             ...             ...             ...   \n",
       "31593                  0               0               0               0   \n",
       "31594                  0               0               0               0   \n",
       "31595                  0               0               0               0   \n",
       "31596                  0               0               0               0   \n",
       "31597                  0               0               0               0   \n",
       "\n",
       "       Sub source_YT  Sub source_fb-lpf  \n",
       "0                  0                  0  \n",
       "1                  0                  0  \n",
       "2                  0                  0  \n",
       "3                  0                  0  \n",
       "4                  0                  0  \n",
       "...              ...                ...  \n",
       "31593              0                  0  \n",
       "31594              0                  0  \n",
       "31595              0                  0  \n",
       "31596              0                  0  \n",
       "31597              0                  0  \n",
       "\n",
       "[31598 rows x 100 columns]"
      ]
     },
     "execution_count": 46,
     "metadata": {},
     "output_type": "execute_result"
    }
   ],
   "source": [
    "dummies_data"
   ]
  },
  {
   "cell_type": "code",
   "execution_count": 47,
   "metadata": {},
   "outputs": [],
   "source": [
    "max_clusters = 50"
   ]
  },
  {
   "cell_type": "code",
   "execution_count": 48,
   "metadata": {},
   "outputs": [],
   "source": [
    "from sklearn.cluster import KMeans\n",
    "kmeans_tests = [KMeans(n_clusters=i, n_init=10) for i in range(1, max_clusters)]\n",
    "inertias = [kmeans_tests[i].fit(dummies_data).inertia_ for i in range(len(kmeans_tests))]"
   ]
  },
  {
   "cell_type": "code",
   "execution_count": 49,
   "metadata": {},
   "outputs": [
    {
     "data": {
      "image/png": "[encoded data removed]",
      "text/plain": [
       "<Figure size 504x360 with 1 Axes>"
      ]
     },
     "metadata": {
      "needs_background": "light"
     },
     "output_type": "display_data"
    }
   ],
   "source": [
    "plt.figure(figsize=(7, 5))\n",
    "plt.plot(range(1, max_clusters), inertias)\n",
    "plt.xlabel(\"Number of Clusters\")\n",
    "plt.ylabel(\"Inertia\")\n",
    "plt.title(\"Choosing the Number of Clusters\")\n",
    "plt.show()"
   ]
  },
  {
   "cell_type": "code",
   "execution_count": 50,
   "metadata": {},
   "outputs": [
    {
     "data": {
      "text/plain": [
       "KMeans(n_clusters=6)"
      ]
     },
     "execution_count": 50,
     "metadata": {},
     "output_type": "execute_result"
    }
   ],
   "source": [
    "kmeans = KMeans(n_clusters=6, n_init=10)\n",
    "kmeans.fit(dummies_data)"
   ]
  },
  {
   "cell_type": "code",
   "execution_count": 51,
   "metadata": {},
   "outputs": [
    {
     "data": {
      "text/plain": [
       "array([2, 2, 4, ..., 4, 5, 4], dtype=int32)"
      ]
     },
     "execution_count": 51,
     "metadata": {},
     "output_type": "execute_result"
    }
   ],
   "source": [
    "clusters = kmeans.predict(dummies_data)\n",
    "clusters"
   ]
  },
  {
   "cell_type": "code",
   "execution_count": 52,
   "metadata": {},
   "outputs": [
    {
     "data": {
      "text/plain": [
       "(31598,)"
      ]
     },
     "execution_count": 52,
     "metadata": {},
     "output_type": "execute_result"
    }
   ],
   "source": [
    "clusters.shape"
   ]
  },
  {
   "cell_type": "code",
   "execution_count": 53,
   "metadata": {},
   "outputs": [],
   "source": [
    "from sklearn.decomposition import PCA\n",
    "\n",
    "pca = PCA(n_components=2)\n",
    "\n",
    "reduced_data = pd.DataFrame(pca.fit_transform(dummies_data), columns=['PC1', 'PC2'])"
   ]
  },
  {
   "cell_type": "code",
   "execution_count": 54,
   "metadata": {},
   "outputs": [
    {
     "data": {
      "text/html": [
       "<div>\n",
       "<style scoped>\n",
       "    .dataframe tbody tr th:only-of-type {\n",
       "        vertical-align: middle;\n",
       "    }\n",
       "\n",
       "    .dataframe tbody tr th {\n",
       "        vertical-align: top;\n",
       "    }\n",
       "\n",
       "    .dataframe thead th {\n",
       "        text-align: right;\n",
       "    }\n",
       "</style>\n",
       "<table border=\"1\" class=\"dataframe\">\n",
       "  <thead>\n",
       "    <tr style=\"text-align: right;\">\n",
       "      <th></th>\n",
       "      <th>PC1</th>\n",
       "      <th>PC2</th>\n",
       "    </tr>\n",
       "  </thead>\n",
       "  <tbody>\n",
       "    <tr>\n",
       "      <th>0</th>\n",
       "      <td>0.671147</td>\n",
       "      <td>0.634567</td>\n",
       "    </tr>\n",
       "    <tr>\n",
       "      <th>1</th>\n",
       "      <td>0.707343</td>\n",
       "      <td>0.602554</td>\n",
       "    </tr>\n",
       "    <tr>\n",
       "      <th>2</th>\n",
       "      <td>-0.686207</td>\n",
       "      <td>0.537645</td>\n",
       "    </tr>\n",
       "    <tr>\n",
       "      <th>3</th>\n",
       "      <td>0.635333</td>\n",
       "      <td>0.702603</td>\n",
       "    </tr>\n",
       "    <tr>\n",
       "      <th>4</th>\n",
       "      <td>0.655940</td>\n",
       "      <td>0.627881</td>\n",
       "    </tr>\n",
       "    <tr>\n",
       "      <th>...</th>\n",
       "      <td>...</td>\n",
       "      <td>...</td>\n",
       "    </tr>\n",
       "    <tr>\n",
       "      <th>31593</th>\n",
       "      <td>-0.029341</td>\n",
       "      <td>0.802194</td>\n",
       "    </tr>\n",
       "    <tr>\n",
       "      <th>31594</th>\n",
       "      <td>-0.066947</td>\n",
       "      <td>0.834485</td>\n",
       "    </tr>\n",
       "    <tr>\n",
       "      <th>31595</th>\n",
       "      <td>-0.797231</td>\n",
       "      <td>0.885784</td>\n",
       "    </tr>\n",
       "    <tr>\n",
       "      <th>31596</th>\n",
       "      <td>0.671913</td>\n",
       "      <td>0.689898</td>\n",
       "    </tr>\n",
       "    <tr>\n",
       "      <th>31597</th>\n",
       "      <td>-0.759650</td>\n",
       "      <td>0.848525</td>\n",
       "    </tr>\n",
       "  </tbody>\n",
       "</table>\n",
       "<p>31598 rows × 2 columns</p>\n",
       "</div>"
      ],
      "text/plain": [
       "            PC1       PC2\n",
       "0      0.671147  0.634567\n",
       "1      0.707343  0.602554\n",
       "2     -0.686207  0.537645\n",
       "3      0.635333  0.702603\n",
       "4      0.655940  0.627881\n",
       "...         ...       ...\n",
       "31593 -0.029341  0.802194\n",
       "31594 -0.066947  0.834485\n",
       "31595 -0.797231  0.885784\n",
       "31596  0.671913  0.689898\n",
       "31597 -0.759650  0.848525\n",
       "\n",
       "[31598 rows x 2 columns]"
      ]
     },
     "execution_count": 54,
     "metadata": {},
     "output_type": "execute_result"
    }
   ],
   "source": [
    "reduced_data"
   ]
  },
  {
   "cell_type": "code",
   "execution_count": 55,
   "metadata": {},
   "outputs": [],
   "source": [
    "# kmeans.cluster_centers_"
   ]
  },
  {
   "cell_type": "code",
   "execution_count": 56,
   "metadata": {},
   "outputs": [
    {
     "data": {
      "text/plain": [
       "array([[ 0.6024137 , -0.55105288],\n",
       "       [-0.79888629, -0.40721059],\n",
       "       [ 0.75591922,  0.60214397],\n",
       "       [-0.05418145,  0.06013947],\n",
       "       [-0.68706065,  0.7277753 ],\n",
       "       [ 0.66390062,  0.52152026]])"
      ]
     },
     "execution_count": 56,
     "metadata": {},
     "output_type": "execute_result"
    }
   ],
   "source": [
    "reduced_centers = pca.transform(kmeans.cluster_centers_)\n",
    "reduced_centers"
   ]
  },
  {
   "cell_type": "code",
   "execution_count": 57,
   "metadata": {},
   "outputs": [
    {
     "data": {
      "text/plain": [
       "0    8603\n",
       "1    8083\n",
       "4    5332\n",
       "5    4030\n",
       "2    3166\n",
       "3    2384\n",
       "Name: cluster, dtype: int64"
      ]
     },
     "execution_count": 57,
     "metadata": {},
     "output_type": "execute_result"
    }
   ],
   "source": [
    "reduced_data['cluster'] = clusters\n",
    "reduced_data['cluster'].value_counts()"
   ]
  },
  {
   "cell_type": "code",
   "execution_count": 58,
   "metadata": {},
   "outputs": [
    {
     "data": {
      "image/png": "[encoded data removed]",
      "text/plain": [
       "<Figure size 1008x720 with 1 Axes>"
      ]
     },
     "metadata": {
      "needs_background": "light"
     },
     "output_type": "display_data"
    }
   ],
   "source": [
    "plt.figure(figsize=(14, 10))\n",
    "\n",
    "plt.scatter(reduced_data[reduced_data['cluster'] == 0].loc[:, 'PC1'], reduced_data[reduced_data['cluster'] == 0].loc[:, 'PC2'], color='red')\n",
    "plt.scatter(reduced_data[reduced_data['cluster'] == 1].loc[:, 'PC1'], reduced_data[reduced_data['cluster'] == 1].loc[:, 'PC2'], color='blue')\n",
    "plt.scatter(reduced_data[reduced_data['cluster'] == 2].loc[:, 'PC1'], reduced_data[reduced_data['cluster'] == 2].loc[:, 'PC2'], color='yellow')\n",
    "plt.scatter(reduced_data[reduced_data['cluster'] == 3].loc[:, 'PC1'], reduced_data[reduced_data['cluster'] == 3].loc[:, 'PC2'], color='orange')\n",
    "plt.scatter(reduced_data[reduced_data['cluster'] == 4].loc[:, 'PC1'], reduced_data[reduced_data['cluster'] == 4].loc[:, 'PC2'], color='cyan')\n",
    "plt.scatter(reduced_data[reduced_data['cluster'] == 5].loc[:, 'PC1'], reduced_data[reduced_data['cluster'] == 5].loc[:, 'PC2'], color='magenta')\n",
    "plt.scatter(reduced_data[reduced_data['cluster'] == 6].loc[:, 'PC1'], reduced_data[reduced_data['cluster'] == 6].loc[:, 'PC2'], color='brown')\n",
    "plt.scatter(reduced_data[reduced_data['cluster'] == 7].loc[:, 'PC1'], reduced_data[reduced_data['cluster'] == 7].loc[:, 'PC2'], color='pink')\n",
    "plt.scatter(reduced_data[reduced_data['cluster'] == 8].loc[:, 'PC1'], reduced_data[reduced_data['cluster'] == 8].loc[:, 'PC2'], color='green')\n",
    "plt.scatter(reduced_data[reduced_data['cluster'] == 9].loc[:, 'PC1'], reduced_data[reduced_data['cluster'] == 9].loc[:, 'PC2'], color='purple')\n",
    "# plt.scatter(reduced_data[reduced_data['cluster'] == 10].loc[:, 'PC1'], reduced_data[reduced_data['cluster'] == 10].loc[:, 'PC2'], color='purple')\n",
    "# plt.scatter(reduced_data[reduced_data['cluster'] == 11].loc[:, 'PC1'], reduced_data[reduced_data['cluster'] == 11].loc[:, 'PC2'], color='purple')\n",
    "# plt.scatter(reduced_data[reduced_data['cluster'] == 12].loc[:, 'PC1'], reduced_data[reduced_data['cluster'] == 12].loc[:, 'PC2'], color='purple')\n",
    "# plt.scatter(reduced_data[reduced_data['cluster'] == 13].loc[:, 'PC1'], reduced_data[reduced_data['cluster'] == 13].loc[:, 'PC2'], color='purple')\n",
    "# plt.scatter(reduced_data[reduced_data['cluster'] == 14].loc[:, 'PC1'], reduced_data[reduced_data['cluster'] == 14].loc[:, 'PC2'], color='purple')\n",
    "# plt.scatter(reduced_data[reduced_data['cluster'] == 15].loc[:, 'PC1'], reduced_data[reduced_data['cluster'] == 15].loc[:, 'PC2'], color='purple')\n",
    "\n",
    "plt.scatter(reduced_centers[:, 0], reduced_centers[:, 1], color='black', marker='x', s=300)\n",
    "\n",
    "plt.xlabel(\"PC1\")\n",
    "plt.ylabel(\"PC2\")\n",
    "\n",
    "plt.show()"
   ]
  },
  {
   "cell_type": "code",
   "execution_count": 59,
   "metadata": {},
   "outputs": [],
   "source": [
    "filter_data['cluster'] = clusters\n",
    "zero_cluster = filter_data[filter_data['cluster']==0]\n",
    "one_cluster = filter_data[filter_data['cluster']==1]\n",
    "two_cluster = filter_data[filter_data['cluster']==2]\n",
    "three_cluster = filter_data[filter_data['cluster']==3]\n",
    "four_cluster = filter_data[filter_data['cluster']==4]\n",
    "five_cluster = filter_data[filter_data['cluster']==5]\n",
    "six_cluster = filter_data[filter_data['cluster']==6]\n",
    "seven_cluster = filter_data[filter_data['cluster']==7]\n",
    "eight_cluster = filter_data[filter_data['cluster']==8]\n",
    "nine_cluster = filter_data[filter_data['cluster']==9]"
   ]
  },
  {
   "cell_type": "markdown",
   "metadata": {},
   "source": [
    "# ZERO"
   ]
  },
  {
   "cell_type": "code",
   "execution_count": 60,
   "metadata": {},
   "outputs": [
    {
     "data": {
      "text/plain": [
       "Followup       26.669409\n",
       "Appointment     0.556997\n",
       "Name: Stage, dtype: float64"
      ]
     },
     "execution_count": 60,
     "metadata": {},
     "output_type": "execute_result"
    }
   ],
   "source": [
    "zero_cluster.Stage.value_counts()/len(filter_data)*100"
   ]
  },
  {
   "cell_type": "code",
   "execution_count": 61,
   "metadata": {},
   "outputs": [
    {
     "data": {
      "text/plain": [
       "Punjab                         5.547819\n",
       "Uttar Pradesh                  3.664789\n",
       "Maharashtra                    2.557124\n",
       "Haryana                        2.414710\n",
       "Delhi                          2.057092\n",
       "Jammu and Kashmir              1.591873\n",
       "Karnataka                      1.376669\n",
       "West Bengal                    1.224761\n",
       "Gujarat                        1.224761\n",
       "Telangana                      0.765871\n",
       "Odisha                         0.525350\n",
       "Madhya Pradesh                 0.420913\n",
       "Rajasthan                      0.417748\n",
       "Uttarakhand                    0.411418\n",
       "Goa                            0.401924\n",
       "Chandigarh                     0.389265\n",
       "Assam                          0.379771\n",
       "Bihar                          0.332300\n",
       "Tamil Nadu                     0.281663\n",
       "Himachal Pradesh               0.240522\n",
       "Andhra Pradesh                 0.227863\n",
       "Jharkhand                      0.202544\n",
       "Kerala                         0.151908\n",
       "Chhattisgarh                   0.142414\n",
       "Tripura                        0.113931\n",
       "Manipur                        0.041142\n",
       "Sikkim                         0.031648\n",
       "Arunachal Pradesh              0.018989\n",
       "Pondicherry                    0.018989\n",
       "Meghalaya                      0.012659\n",
       "Dadra and Nagar Haveli         0.012659\n",
       "Andaman and Nicobar Islands    0.009494\n",
       "Daman and Diu                  0.006330\n",
       "Lakshadweep                    0.003165\n",
       "Nagaland                       0.003165\n",
       "Kalimantan Tengah              0.003165\n",
       "Name: State, dtype: float64"
      ]
     },
     "execution_count": 61,
     "metadata": {},
     "output_type": "execute_result"
    }
   ],
   "source": [
    "zero_cluster.State.value_counts()/len(filter_data)*100"
   ]
  },
  {
   "cell_type": "code",
   "execution_count": 62,
   "metadata": {},
   "outputs": [
    {
     "data": {
      "text/plain": [
       "FB-LPF    8603\n",
       "Name: Sub source, dtype: int64"
      ]
     },
     "execution_count": 62,
     "metadata": {},
     "output_type": "execute_result"
    }
   ],
   "source": [
    "zero_cluster['Sub source'].value_counts()"
   ]
  },
  {
   "cell_type": "code",
   "execution_count": 63,
   "metadata": {},
   "outputs": [
    {
     "data": {
      "text/plain": [
       "Neha              2.383062\n",
       "jyoti             2.351415\n",
       "agent09           2.215330\n",
       "agent meena       1.962150\n",
       "agent05           1.465283\n",
       "agent10           1.455788\n",
       "agent07           1.379834\n",
       "Bindu             1.367175\n",
       "agentdeeksha      1.310210\n",
       "agent08           1.132983\n",
       "agent001          1.104500\n",
       "sm001             0.924109\n",
       "agent11           0.886132\n",
       "Online manager    0.854484\n",
       "agent06           0.680423\n",
       "agent03           0.632951\n",
       "agent2            0.582315\n",
       "Ritika            0.436737\n",
       "bengaluru         0.433572\n",
       "hyderabad         0.424077\n",
       "Bhumika           0.414583\n",
       "Anamika           0.411418\n",
       "Parminder         0.408254\n",
       "ahmedabad         0.392430\n",
       "agent12           0.303817\n",
       "harkirat          0.272169\n",
       "lucknow           0.199380\n",
       "Kanchan           0.196215\n",
       "Pune Clinic       0.196215\n",
       "Goa Clinic        0.174062\n",
       "Poonam            0.107602\n",
       "manminder         0.091778\n",
       "agent04           0.072789\n",
       "delhi             0.003165\n",
       "Name: Manager, dtype: float64"
      ]
     },
     "execution_count": 63,
     "metadata": {},
     "output_type": "execute_result"
    }
   ],
   "source": [
    "zero_cluster.Manager.value_counts()/len(filter_data)*100"
   ]
  },
  {
   "cell_type": "markdown",
   "metadata": {},
   "source": [
    "# ONE"
   ]
  },
  {
   "cell_type": "code",
   "execution_count": 64,
   "metadata": {},
   "outputs": [
    {
     "data": {
      "text/plain": [
       "Lead           25.520603\n",
       "Appointment     0.060130\n",
       "Name: Stage, dtype: float64"
      ]
     },
     "execution_count": 64,
     "metadata": {},
     "output_type": "execute_result"
    }
   ],
   "source": [
    "one_cluster.Stage.value_counts()/len(filter_data)*100"
   ]
  },
  {
   "cell_type": "code",
   "execution_count": 65,
   "metadata": {},
   "outputs": [
    {
     "data": {
      "text/plain": [
       "Maharashtra                    3.519210\n",
       "Uttar Pradesh                  3.183746\n",
       "Haryana                        2.129882\n",
       "Punjab                         2.012786\n",
       "West Bengal                    1.851383\n",
       "Jammu and Kashmir              1.848218\n",
       "Delhi                          1.623520\n",
       "Karnataka                      1.246914\n",
       "Gujarat                        1.006393\n",
       "Rajasthan                      0.708906\n",
       "Madhya Pradesh                 0.674093\n",
       "Telangana                      0.648775\n",
       "Odisha                         0.601304\n",
       "Chandigarh                     0.553833\n",
       "Assam                          0.534844\n",
       "Uttarakhand                    0.487373\n",
       "Bihar                          0.484208\n",
       "Tamil Nadu                     0.446231\n",
       "Andhra Pradesh                 0.376606\n",
       "Goa                            0.376606\n",
       "Himachal Pradesh               0.313311\n",
       "Kerala                         0.291158\n",
       "Jharkhand                      0.186721\n",
       "Chhattisgarh                   0.151908\n",
       "Tripura                        0.117096\n",
       "Manipur                        0.041142\n",
       "Sikkim                         0.031648\n",
       "Arunachal Pradesh              0.031648\n",
       "Meghalaya                      0.031648\n",
       "Andaman and Nicobar Islands    0.028483\n",
       "Pondicherry                    0.022153\n",
       "Nagaland                       0.006330\n",
       "Dadra and Nagar Haveli         0.006330\n",
       "Daman and Diu                  0.006330\n",
       "Name: State, dtype: float64"
      ]
     },
     "execution_count": 65,
     "metadata": {},
     "output_type": "execute_result"
    }
   ],
   "source": [
    "one_cluster.State.value_counts()/len(filter_data)*100"
   ]
  },
  {
   "cell_type": "code",
   "execution_count": 66,
   "metadata": {},
   "outputs": [
    {
     "data": {
      "text/plain": [
       "FB-LPF    8083\n",
       "Name: Sub source, dtype: int64"
      ]
     },
     "execution_count": 66,
     "metadata": {},
     "output_type": "execute_result"
    }
   ],
   "source": [
    "one_cluster['Sub source'].value_counts()"
   ]
  },
  {
   "cell_type": "code",
   "execution_count": 67,
   "metadata": {},
   "outputs": [
    {
     "data": {
      "text/plain": [
       "jyoti             2.120387\n",
       "agent meena       1.443129\n",
       "agent2            1.158301\n",
       "agentdeeksha      0.898791\n",
       "agent11           0.620292\n",
       "agent08           0.525350\n",
       "agent05           0.496867\n",
       "sm001             0.420913\n",
       "agent001          0.382936\n",
       "agent10           0.262675\n",
       "harkirat          0.259510\n",
       "agent03           0.221533\n",
       "agent06           0.189885\n",
       "agent07           0.174062\n",
       "Neha              0.170897\n",
       "agent09           0.145579\n",
       "Bindu             0.101272\n",
       "agent12           0.079119\n",
       "Kanchan           0.053801\n",
       "Parminder         0.047471\n",
       "ahmedabad         0.047471\n",
       "bengaluru         0.037977\n",
       "Goa Clinic        0.025318\n",
       "hyderabad         0.025318\n",
       "Ritika            0.018989\n",
       "agent04           0.018989\n",
       "Pune Clinic       0.015824\n",
       "Online manager    0.015824\n",
       "Aman              0.012659\n",
       "lucknow           0.009494\n",
       "Bhumika           0.009494\n",
       "manminder         0.006330\n",
       "Anamika           0.003165\n",
       "Name: Manager, dtype: float64"
      ]
     },
     "execution_count": 67,
     "metadata": {},
     "output_type": "execute_result"
    }
   ],
   "source": [
    "two_cluster.Manager.value_counts()/len(filter_data)*100"
   ]
  },
  {
   "cell_type": "markdown",
   "metadata": {},
   "source": [
    "# TWO"
   ]
  },
  {
   "cell_type": "code",
   "execution_count": 68,
   "metadata": {},
   "outputs": [
    {
     "data": {
      "text/plain": [
       "Followup       2946\n",
       "Appointment     175\n",
       "Cancelled        42\n",
       "Confirmed         3\n",
       "Name: Stage, dtype: int64"
      ]
     },
     "execution_count": 68,
     "metadata": {},
     "output_type": "execute_result"
    }
   ],
   "source": [
    "two_cluster.Stage.value_counts()"
   ]
  },
  {
   "cell_type": "code",
   "execution_count": 69,
   "metadata": {},
   "outputs": [
    {
     "data": {
      "text/plain": [
       "Punjab                         4.940186\n",
       "Maharashtra                    1.019052\n",
       "Haryana                        0.835496\n",
       "Chandigarh                     0.538009\n",
       "Delhi                          0.376606\n",
       "Uttar Pradesh                  0.351288\n",
       "West Bengal                    0.250016\n",
       "Karnataka                      0.215203\n",
       "Kerala                         0.167732\n",
       "Telangana                      0.167732\n",
       "Himachal Pradesh               0.161403\n",
       "Gujarat                        0.151908\n",
       "Jammu and Kashmir              0.148744\n",
       "Rajasthan                      0.113931\n",
       "Assam                          0.075954\n",
       "Madhya Pradesh                 0.075954\n",
       "Uttarakhand                    0.072789\n",
       "Odisha                         0.063295\n",
       "Bihar                          0.053801\n",
       "Goa                            0.050636\n",
       "Tamil Nadu                     0.047471\n",
       "Jharkhand                      0.037977\n",
       "Andhra Pradesh                 0.034812\n",
       "Chhattisgarh                   0.028483\n",
       "Tripura                        0.018989\n",
       "Arunachal Pradesh              0.009494\n",
       "Dadra and Nagar Haveli         0.003165\n",
       "Sikkim                         0.003165\n",
       "Andaman and Nicobar Islands    0.003165\n",
       "Pondicherry                    0.003165\n",
       "Name: State, dtype: float64"
      ]
     },
     "execution_count": 69,
     "metadata": {},
     "output_type": "execute_result"
    }
   ],
   "source": [
    "two_cluster.State.value_counts()/len(filter_data)*100"
   ]
  },
  {
   "cell_type": "code",
   "execution_count": 70,
   "metadata": {},
   "outputs": [
    {
     "data": {
      "text/plain": [
       "FBA             2476\n",
       "DIC GOOGLE       218\n",
       "OGN              175\n",
       "FBC               55\n",
       "IG                51\n",
       "OWF               46\n",
       "LPC               41\n",
       "DIC FACEBOOK      32\n",
       "FBI               24\n",
       "OW AP.            23\n",
       "OW AP             15\n",
       "WWC                8\n",
       "YT                 1\n",
       "fb-lpf             1\n",
       "Name: Sub source, dtype: int64"
      ]
     },
     "execution_count": 70,
     "metadata": {},
     "output_type": "execute_result"
    }
   ],
   "source": [
    "two_cluster['Sub source'].value_counts()"
   ]
  },
  {
   "cell_type": "code",
   "execution_count": 71,
   "metadata": {},
   "outputs": [
    {
     "data": {
      "text/plain": [
       "jyoti             2.120387\n",
       "agent meena       1.443129\n",
       "agent2            1.158301\n",
       "agentdeeksha      0.898791\n",
       "agent11           0.620292\n",
       "agent08           0.525350\n",
       "agent05           0.496867\n",
       "sm001             0.420913\n",
       "agent001          0.382936\n",
       "agent10           0.262675\n",
       "harkirat          0.259510\n",
       "agent03           0.221533\n",
       "agent06           0.189885\n",
       "agent07           0.174062\n",
       "Neha              0.170897\n",
       "agent09           0.145579\n",
       "Bindu             0.101272\n",
       "agent12           0.079119\n",
       "Kanchan           0.053801\n",
       "Parminder         0.047471\n",
       "ahmedabad         0.047471\n",
       "bengaluru         0.037977\n",
       "Goa Clinic        0.025318\n",
       "hyderabad         0.025318\n",
       "Ritika            0.018989\n",
       "agent04           0.018989\n",
       "Pune Clinic       0.015824\n",
       "Online manager    0.015824\n",
       "Aman              0.012659\n",
       "lucknow           0.009494\n",
       "Bhumika           0.009494\n",
       "manminder         0.006330\n",
       "Anamika           0.003165\n",
       "Name: Manager, dtype: float64"
      ]
     },
     "execution_count": 71,
     "metadata": {},
     "output_type": "execute_result"
    }
   ],
   "source": [
    "two_cluster.Manager.value_counts()/len(filter_data)*100"
   ]
  },
  {
   "cell_type": "markdown",
   "metadata": {},
   "source": [
    "# THREE"
   ]
  },
  {
   "cell_type": "code",
   "execution_count": 72,
   "metadata": {
    "scrolled": true
   },
   "outputs": [
    {
     "data": {
      "text/plain": [
       "Cancelled    2384\n",
       "Name: Stage, dtype: int64"
      ]
     },
     "execution_count": 72,
     "metadata": {},
     "output_type": "execute_result"
    }
   ],
   "source": [
    "three_cluster.Stage.value_counts()"
   ]
  },
  {
   "cell_type": "code",
   "execution_count": 73,
   "metadata": {
    "scrolled": false
   },
   "outputs": [
    {
     "data": {
      "text/plain": [
       "Uttar Pradesh                  1.050699\n",
       "Delhi                          0.816507\n",
       "Punjab                         0.775366\n",
       "Karnataka                      0.708906\n",
       "Haryana                        0.689917\n",
       "Gujarat                        0.553833\n",
       "Telangana                      0.481043\n",
       "Maharashtra                    0.443066\n",
       "West Bengal                    0.325970\n",
       "Jammu and Kashmir              0.300652\n",
       "Rajasthan                      0.189885\n",
       "Bihar                          0.148744\n",
       "Odisha                         0.145579\n",
       "Madhya Pradesh                 0.132920\n",
       "Tamil Nadu                     0.117096\n",
       "Andhra Pradesh                 0.098107\n",
       "Chandigarh                     0.088613\n",
       "Kerala                         0.085448\n",
       "Himachal Pradesh               0.079119\n",
       "Uttarakhand                    0.060130\n",
       "Assam                          0.060130\n",
       "Goa                            0.044307\n",
       "Jharkhand                      0.041142\n",
       "Chhattisgarh                   0.031648\n",
       "Meghalaya                      0.018989\n",
       "Tripura                        0.015824\n",
       "Manipur                        0.009494\n",
       "Mizoram                        0.009494\n",
       "Sikkim                         0.006330\n",
       "Pondicherry                    0.006330\n",
       "Andaman and Nicobar Islands    0.003165\n",
       "Daman and Diu                  0.003165\n",
       "Dadra and Nagar Haveli         0.003165\n",
       "Name: State, dtype: float64"
      ]
     },
     "execution_count": 73,
     "metadata": {},
     "output_type": "execute_result"
    }
   ],
   "source": [
    "three_cluster.State.value_counts()/len(filter_data)*100"
   ]
  },
  {
   "cell_type": "code",
   "execution_count": 74,
   "metadata": {},
   "outputs": [
    {
     "data": {
      "text/plain": [
       "FB-LPF          4.044560\n",
       "GO-LPF          1.943161\n",
       "FBA             0.579151\n",
       "DIC GOOGLE      0.205709\n",
       "OWF             0.186721\n",
       "OGN             0.148744\n",
       "LPC             0.123426\n",
       "WWC             0.091778\n",
       "FBC             0.082284\n",
       "IG              0.056966\n",
       "OW AP.          0.034812\n",
       "FBI             0.031648\n",
       "DIC FACEBOOK    0.009494\n",
       "YT              0.003165\n",
       "FB AP.          0.003165\n",
       "Name: Sub source, dtype: float64"
      ]
     },
     "execution_count": 74,
     "metadata": {},
     "output_type": "execute_result"
    }
   ],
   "source": [
    "three_cluster['Sub source'].value_counts()/len(filter_data)*100"
   ]
  },
  {
   "cell_type": "code",
   "execution_count": 75,
   "metadata": {},
   "outputs": [
    {
     "data": {
      "text/plain": [
       "agent09           1.057029\n",
       "hyderabad         0.762707\n",
       "bengaluru         0.604469\n",
       "agent08           0.500032\n",
       "ahmedabad         0.462055\n",
       "sm001             0.338629\n",
       "agent03           0.306981\n",
       "agent05           0.297487\n",
       "jyoti             0.284828\n",
       "agent meena       0.281663\n",
       "agent001          0.272169\n",
       "Neha              0.269004\n",
       "Bindu             0.231027\n",
       "agent07           0.221533\n",
       "agentdeeksha      0.202544\n",
       "Anamika           0.202544\n",
       "Ritika            0.164567\n",
       "Parminder         0.151908\n",
       "agent11           0.148744\n",
       "agent10           0.126590\n",
       "Bhumika           0.094943\n",
       "agent2            0.091778\n",
       "Poonam            0.072789\n",
       "Online manager    0.066460\n",
       "lucknow           0.063295\n",
       "harkirat          0.060130\n",
       "Kanchan           0.047471\n",
       "agent12           0.034812\n",
       "agent06           0.034812\n",
       "Pune Clinic       0.031648\n",
       "Goa Clinic        0.022153\n",
       "manminder         0.022153\n",
       "agent04           0.015824\n",
       "Name: Manager, dtype: float64"
      ]
     },
     "execution_count": 75,
     "metadata": {},
     "output_type": "execute_result"
    }
   ],
   "source": [
    "three_cluster.Manager.value_counts()/len(filter_data)*100"
   ]
  },
  {
   "cell_type": "markdown",
   "metadata": {},
   "source": [
    "# FOUR"
   ]
  },
  {
   "cell_type": "code",
   "execution_count": 76,
   "metadata": {},
   "outputs": [
    {
     "data": {
      "text/plain": [
       "Lead           16.868156\n",
       "Appointment     0.006330\n",
       "Name: Stage, dtype: float64"
      ]
     },
     "execution_count": 76,
     "metadata": {},
     "output_type": "execute_result"
    }
   ],
   "source": [
    "four_cluster.Stage.value_counts()/len(filter_data)*100"
   ]
  },
  {
   "cell_type": "code",
   "execution_count": 77,
   "metadata": {},
   "outputs": [
    {
     "data": {
      "text/plain": [
       "Maharashtra                    2.829293\n",
       "Punjab                         2.028609\n",
       "Uttar Pradesh                  1.386164\n",
       "Haryana                        1.199443\n",
       "West Bengal                    1.193113\n",
       "Delhi                          0.743718\n",
       "Chandigarh                     0.740553\n",
       "Rajasthan                      0.607633\n",
       "Kerala                         0.566492\n",
       "Telangana                      0.544338\n",
       "Gujarat                        0.541173\n",
       "Karnataka                      0.534844\n",
       "Jammu and Kashmir              0.522185\n",
       "Tamil Nadu                     0.462055\n",
       "Madhya Pradesh                 0.386100\n",
       "Odisha                         0.360782\n",
       "Himachal Pradesh               0.351288\n",
       "Bihar                          0.351288\n",
       "Andhra Pradesh                 0.316476\n",
       "Assam                          0.256345\n",
       "Uttarakhand                    0.215203\n",
       "Jharkhand                      0.199380\n",
       "Goa                            0.155073\n",
       "Chhattisgarh                   0.139249\n",
       "Tripura                        0.088613\n",
       "Manipur                        0.034812\n",
       "Arunachal Pradesh              0.034812\n",
       "Meghalaya                      0.022153\n",
       "Mizoram                        0.018989\n",
       "Pondicherry                    0.012659\n",
       "Andaman and Nicobar Islands    0.009494\n",
       "Sikkim                         0.006330\n",
       "Daman and Diu                  0.006330\n",
       "Nagaland                       0.006330\n",
       "Dadra and Nagar Haveli         0.003165\n",
       "Name: State, dtype: float64"
      ]
     },
     "execution_count": 77,
     "metadata": {},
     "output_type": "execute_result"
    }
   ],
   "source": [
    "four_cluster.State.value_counts()/len(filter_data)*100"
   ]
  },
  {
   "cell_type": "code",
   "execution_count": 78,
   "metadata": {},
   "outputs": [
    {
     "data": {
      "text/plain": [
       "GO-LPF          6.921324\n",
       "FBA             5.829483\n",
       "LPC             0.914615\n",
       "OGN             0.626622\n",
       "FBC             0.522185\n",
       "IG              0.503196\n",
       "OWF             0.389265\n",
       "DIC GOOGLE      0.389265\n",
       "FBI             0.246851\n",
       "OW AP.          0.227863\n",
       "WWC             0.158238\n",
       "DIC FACEBOOK    0.072789\n",
       "OW AP           0.037977\n",
       "YT              0.018989\n",
       "FB AP.          0.009494\n",
       "fb-lpf          0.003165\n",
       "REF             0.003165\n",
       "Name: Sub source, dtype: float64"
      ]
     },
     "execution_count": 78,
     "metadata": {},
     "output_type": "execute_result"
    }
   ],
   "source": [
    "four_cluster['Sub source'].value_counts()/len(filter_data)*100"
   ]
  },
  {
   "cell_type": "code",
   "execution_count": 79,
   "metadata": {},
   "outputs": [
    {
     "data": {
      "text/plain": [
       "sm001             2.034939\n",
       "agent12           1.670992\n",
       "agent2            1.544402\n",
       "agentdeeksha      1.284891\n",
       "agent03           1.063358\n",
       "agent09           0.841825\n",
       "agent meena       0.737388\n",
       "Ritika            0.724729\n",
       "agent001          0.718400\n",
       "agent05           0.544338\n",
       "agent06           0.541173\n",
       "ahmedabad         0.452560\n",
       "agent10           0.449396\n",
       "agent11           0.376606\n",
       "Poonam            0.348123\n",
       "hyderabad         0.341794\n",
       "jyoti             0.306981\n",
       "harkirat          0.300652\n",
       "agent08           0.297487\n",
       "Bhumika           0.287993\n",
       "Neha              0.275334\n",
       "Bindu             0.275334\n",
       "agent04           0.231027\n",
       "Online manager    0.205709\n",
       "agent07           0.189885\n",
       "Parminder         0.164567\n",
       "Anamika           0.151908\n",
       "lucknow           0.107602\n",
       "Goa Clinic        0.104437\n",
       "Pune Clinic       0.091778\n",
       "Kanchan           0.088613\n",
       "bengaluru         0.072789\n",
       "Aman              0.025318\n",
       "delhi             0.012659\n",
       "Vashi Clinic      0.006330\n",
       "manminder         0.003165\n",
       "Name: Manager, dtype: float64"
      ]
     },
     "execution_count": 79,
     "metadata": {},
     "output_type": "execute_result"
    }
   ],
   "source": [
    "four_cluster.Manager.value_counts()/len(filter_data)*100"
   ]
  },
  {
   "cell_type": "markdown",
   "metadata": {},
   "source": [
    "# Five\n"
   ]
  },
  {
   "cell_type": "code",
   "execution_count": 80,
   "metadata": {},
   "outputs": [
    {
     "data": {
      "text/plain": [
       "Followup       12.361542\n",
       "Appointment     0.392430\n",
       "Name: Stage, dtype: float64"
      ]
     },
     "execution_count": 80,
     "metadata": {},
     "output_type": "execute_result"
    }
   ],
   "source": [
    "five_cluster.Stage.value_counts()/len(filter_data)*100"
   ]
  },
  {
   "cell_type": "code",
   "execution_count": 81,
   "metadata": {},
   "outputs": [
    {
     "data": {
      "text/plain": [
       "Maharashtra                    1.629850\n",
       "Uttar Pradesh                  1.458953\n",
       "Haryana                        1.205773\n",
       "Delhi                          1.047535\n",
       "Punjab                         1.022217\n",
       "Karnataka                      0.762707\n",
       "Gujarat                        0.756377\n",
       "Telangana                      0.683588\n",
       "Chandigarh                     0.655105\n",
       "West Bengal                    0.572821\n",
       "Rajasthan                      0.458890\n",
       "Madhya Pradesh                 0.319640\n",
       "Jammu and Kashmir              0.237357\n",
       "Odisha                         0.227863\n",
       "Tamil Nadu                     0.221533\n",
       "Andhra Pradesh                 0.202544\n",
       "Kerala                         0.193050\n",
       "Bihar                          0.186721\n",
       "Jharkhand                      0.177226\n",
       "Uttarakhand                    0.158238\n",
       "Himachal Pradesh               0.129755\n",
       "Assam                          0.117096\n",
       "Chhattisgarh                   0.098107\n",
       "Goa                            0.079119\n",
       "Tripura                        0.053801\n",
       "Arunachal Pradesh              0.018989\n",
       "Andaman and Nicobar Islands    0.015824\n",
       "Manipur                        0.012659\n",
       "Sikkim                         0.012659\n",
       "Dadra and Nagar Haveli         0.009494\n",
       "Pondicherry                    0.006330\n",
       "Nagaland                       0.006330\n",
       "Meghalaya                      0.006330\n",
       "Chatswood                      0.003165\n",
       "Daman and Diu                  0.003165\n",
       "Mizoram                        0.003165\n",
       "Name: State, dtype: float64"
      ]
     },
     "execution_count": 81,
     "metadata": {},
     "output_type": "execute_result"
    }
   ],
   "source": [
    "five_cluster.State.value_counts()/len(filter_data)*100"
   ]
  },
  {
   "cell_type": "code",
   "execution_count": 82,
   "metadata": {},
   "outputs": [
    {
     "data": {
      "text/plain": [
       "GO-LPF          6.981455\n",
       "OGN             1.534907\n",
       "DIC GOOGLE      0.930439\n",
       "OWF             0.699411\n",
       "LPC             0.556997\n",
       "FBC             0.528514\n",
       "IG              0.414583\n",
       "DIC FACEBOOK    0.354453\n",
       "OW AP.          0.272169\n",
       "FBI             0.237357\n",
       "OW AP           0.094943\n",
       "WWC             0.088613\n",
       "YT              0.028483\n",
       "fb-lpf          0.012659\n",
       "OTH             0.012659\n",
       "FB LBF          0.003165\n",
       "FB AP.          0.003165\n",
       "Name: Sub source, dtype: float64"
      ]
     },
     "execution_count": 82,
     "metadata": {},
     "output_type": "execute_result"
    }
   ],
   "source": [
    "five_cluster['Sub source'].value_counts()/len(filter_data)*100"
   ]
  },
  {
   "cell_type": "code",
   "execution_count": 83,
   "metadata": {},
   "outputs": [
    {
     "data": {
      "text/plain": [
       "agentdeeksha      1.705804\n",
       "sm001             0.917780\n",
       "agent2            0.895626\n",
       "agent08           0.863979\n",
       "agent09           0.674093\n",
       "ahmedabad         0.658270\n",
       "agent05           0.645610\n",
       "hyderabad         0.582315\n",
       "Neha              0.550668\n",
       "agent03           0.468384\n",
       "jyoti             0.462055\n",
       "bengaluru         0.386100\n",
       "agent meena       0.376606\n",
       "agent001          0.363947\n",
       "agent10           0.303817\n",
       "agent07           0.294322\n",
       "Ritika            0.275334\n",
       "Bindu             0.272169\n",
       "Parminder         0.262675\n",
       "Online manager    0.256345\n",
       "Pune Clinic       0.221533\n",
       "agent06           0.199380\n",
       "Kanchan           0.193050\n",
       "agent12           0.155073\n",
       "harkirat          0.155073\n",
       "Bhumika           0.145579\n",
       "agent11           0.132920\n",
       "lucknow           0.107602\n",
       "Anamika           0.069625\n",
       "Aman              0.056966\n",
       "Goa Clinic        0.047471\n",
       "Poonam            0.031648\n",
       "agent04           0.015824\n",
       "delhi             0.003165\n",
       "manminder         0.003165\n",
       "Name: Manager, dtype: float64"
      ]
     },
     "execution_count": 83,
     "metadata": {},
     "output_type": "execute_result"
    }
   ],
   "source": [
    "five_cluster.Manager.value_counts()/len(filter_data)*100"
   ]
  },
  {
   "cell_type": "markdown",
   "metadata": {},
   "source": [
    "# SIX"
   ]
  },
  {
   "cell_type": "code",
   "execution_count": 84,
   "metadata": {},
   "outputs": [
    {
     "data": {
      "text/html": [
       "<div>\n",
       "<style scoped>\n",
       "    .dataframe tbody tr th:only-of-type {\n",
       "        vertical-align: middle;\n",
       "    }\n",
       "\n",
       "    .dataframe tbody tr th {\n",
       "        vertical-align: top;\n",
       "    }\n",
       "\n",
       "    .dataframe thead th {\n",
       "        text-align: right;\n",
       "    }\n",
       "</style>\n",
       "<table border=\"1\" class=\"dataframe\">\n",
       "  <thead>\n",
       "    <tr style=\"text-align: right;\">\n",
       "      <th></th>\n",
       "      <th>Manager</th>\n",
       "      <th>Sub source</th>\n",
       "      <th>Stage</th>\n",
       "      <th>State</th>\n",
       "      <th>cluster</th>\n",
       "    </tr>\n",
       "  </thead>\n",
       "  <tbody>\n",
       "  </tbody>\n",
       "</table>\n",
       "</div>"
      ],
      "text/plain": [
       "Empty DataFrame\n",
       "Columns: [Manager, Sub source, Stage, State, cluster]\n",
       "Index: []"
      ]
     },
     "execution_count": 84,
     "metadata": {},
     "output_type": "execute_result"
    }
   ],
   "source": [
    "six_cluster"
   ]
  },
  {
   "cell_type": "code",
   "execution_count": 85,
   "metadata": {},
   "outputs": [
    {
     "data": {
      "text/plain": [
       "Series([], Name: Stage, dtype: float64)"
      ]
     },
     "execution_count": 85,
     "metadata": {},
     "output_type": "execute_result"
    }
   ],
   "source": [
    "six_cluster.Stage.value_counts()/len(filter_data)*100"
   ]
  },
  {
   "cell_type": "code",
   "execution_count": 86,
   "metadata": {},
   "outputs": [
    {
     "data": {
      "text/plain": [
       "Series([], Name: State, dtype: float64)"
      ]
     },
     "execution_count": 86,
     "metadata": {},
     "output_type": "execute_result"
    }
   ],
   "source": [
    "six_cluster.State.value_counts()/len(filter_data)*100"
   ]
  },
  {
   "cell_type": "code",
   "execution_count": 87,
   "metadata": {},
   "outputs": [
    {
     "data": {
      "text/plain": [
       "Series([], Name: Sub source, dtype: float64)"
      ]
     },
     "execution_count": 87,
     "metadata": {},
     "output_type": "execute_result"
    }
   ],
   "source": [
    "six_cluster['Sub source'].value_counts()/len(filter_data)*100"
   ]
  },
  {
   "cell_type": "markdown",
   "metadata": {},
   "source": [
    "# SEVEN"
   ]
  },
  {
   "cell_type": "code",
   "execution_count": 88,
   "metadata": {},
   "outputs": [
    {
     "data": {
      "text/plain": [
       "Series([], Name: Stage, dtype: float64)"
      ]
     },
     "execution_count": 88,
     "metadata": {},
     "output_type": "execute_result"
    }
   ],
   "source": [
    "seven_cluster.Stage.value_counts()/len(filter_data)*100"
   ]
  },
  {
   "cell_type": "code",
   "execution_count": 89,
   "metadata": {},
   "outputs": [
    {
     "data": {
      "text/plain": [
       "Series([], Name: State, dtype: float64)"
      ]
     },
     "execution_count": 89,
     "metadata": {},
     "output_type": "execute_result"
    }
   ],
   "source": [
    "seven_cluster.State.value_counts()/len(filter_data)*100"
   ]
  },
  {
   "cell_type": "code",
   "execution_count": 90,
   "metadata": {},
   "outputs": [
    {
     "data": {
      "text/plain": [
       "Series([], Name: Sub source, dtype: float64)"
      ]
     },
     "execution_count": 90,
     "metadata": {},
     "output_type": "execute_result"
    }
   ],
   "source": [
    "seven_cluster['Sub source'].value_counts()/len(filter_data)*100"
   ]
  },
  {
   "cell_type": "markdown",
   "metadata": {},
   "source": [
    "# EIGHT"
   ]
  },
  {
   "cell_type": "code",
   "execution_count": 91,
   "metadata": {},
   "outputs": [
    {
     "data": {
      "text/plain": [
       "Series([], Name: Stage, dtype: float64)"
      ]
     },
     "execution_count": 91,
     "metadata": {},
     "output_type": "execute_result"
    }
   ],
   "source": [
    "eight_cluster.Stage.value_counts()/len(filter_data)*100"
   ]
  },
  {
   "cell_type": "code",
   "execution_count": 92,
   "metadata": {},
   "outputs": [
    {
     "data": {
      "text/plain": [
       "Series([], Name: State, dtype: float64)"
      ]
     },
     "execution_count": 92,
     "metadata": {},
     "output_type": "execute_result"
    }
   ],
   "source": [
    "eight_cluster.State.value_counts()/len(filter_data)*100"
   ]
  },
  {
   "cell_type": "code",
   "execution_count": 93,
   "metadata": {},
   "outputs": [
    {
     "data": {
      "text/plain": [
       "Series([], Name: Sub source, dtype: float64)"
      ]
     },
     "execution_count": 93,
     "metadata": {},
     "output_type": "execute_result"
    }
   ],
   "source": [
    "eight_cluster['Sub source'].value_counts()/len(filter_data)*100"
   ]
  },
  {
   "cell_type": "markdown",
   "metadata": {},
   "source": [
    "# NINE"
   ]
  },
  {
   "cell_type": "code",
   "execution_count": 94,
   "metadata": {},
   "outputs": [
    {
     "data": {
      "text/plain": [
       "Series([], Name: Stage, dtype: float64)"
      ]
     },
     "execution_count": 94,
     "metadata": {},
     "output_type": "execute_result"
    }
   ],
   "source": [
    "nine_cluster.Stage.value_counts()/len(filter_data)*100"
   ]
  },
  {
   "cell_type": "code",
   "execution_count": 95,
   "metadata": {},
   "outputs": [
    {
     "data": {
      "text/plain": [
       "Series([], Name: State, dtype: float64)"
      ]
     },
     "execution_count": 95,
     "metadata": {},
     "output_type": "execute_result"
    }
   ],
   "source": [
    "nine_cluster.State.value_counts()/len(filter_data)*100"
   ]
  },
  {
   "cell_type": "code",
   "execution_count": 96,
   "metadata": {},
   "outputs": [
    {
     "data": {
      "text/plain": [
       "Series([], Name: Sub source, dtype: float64)"
      ]
     },
     "execution_count": 96,
     "metadata": {},
     "output_type": "execute_result"
    }
   ],
   "source": [
    "nine_cluster['Sub source'].value_counts()/len(filter_data)*100"
   ]
  }
 ],
 "metadata": {
  "kernelspec": {
   "display_name": "Python 3",
   "language": "python",
   "name": "python3"
  },
  "language_info": {
   "codemirror_mode": {
    "name": "ipython",
    "version": 3
   },
   "file_extension": ".py",
   "mimetype": "text/x-python",
   "name": "python",
   "nbconvert_exporter": "python",
   "pygments_lexer": "ipython3",
   "version": "3.8.5"
  }
 },
 "nbformat": 4,
 "nbformat_minor": 4
}
